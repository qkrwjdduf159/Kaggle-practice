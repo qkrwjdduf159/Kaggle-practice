{
 "cells": [
  {
   "cell_type": "code",
   "execution_count": 24,
   "metadata": {},
   "outputs": [],
   "source": [
    "import numpy as np\n",
    "import pandas as pd\n",
    "import matplotlib.pyplot as plt\n",
    "import seaborn as sns\n",
    "from sklearn.ensemble import GradientBoostingClassifier, AdaBoostClassifier,RandomForestClassifier\n",
    "from sklearn.model_selection import train_test_split\n",
    "from sklearn.preprocessing import LabelEncoder\n",
    "from sklearn.neighbors import KNeighborsClassifier\n",
    "import warnings\n",
    "warnings.filterwarnings('ignore')\n",
    "from sklearn.preprocessing import MinMaxScaler"
   ]
  },
  {
   "cell_type": "code",
   "execution_count": 25,
   "metadata": {},
   "outputs": [],
   "source": [
    "train=pd.read_csv('train.csv')\n",
    "test = pd.read_csv('test.csv')"
   ]
  },
  {
   "cell_type": "code",
   "execution_count": 26,
   "metadata": {},
   "outputs": [],
   "source": [
    "target=train.iloc[:,-1]\n",
    "train.drop(['id','target'], axis = 1,  inplace= True)"
   ]
  },
  {
   "cell_type": "code",
   "execution_count": 27,
   "metadata": {},
   "outputs": [
    {
     "data": {
      "text/plain": [
       "MinMaxScaler()"
      ]
     },
     "execution_count": 27,
     "metadata": {},
     "output_type": "execute_result"
    }
   ],
   "source": [
    "scaler = MinMaxScaler()\n",
    "# min_max 값 학습\n",
    "scaler.fit(train)\n",
    "train=scaler.transform(train)\n",
    "train = pd.DataFrame(train)"
   ]
  },
  {
   "cell_type": "code",
   "execution_count": 29,
   "metadata": {},
   "outputs": [
    {
     "data": {
      "text/plain": [
       "(144368, 94)"
      ]
     },
     "execution_count": 29,
     "metadata": {},
     "output_type": "execute_result"
    }
   ],
   "source": [
    "train.shape\n",
    "test.shape"
   ]
  },
  {
   "cell_type": "code",
   "execution_count": 30,
   "metadata": {},
   "outputs": [
    {
     "data": {
      "text/html": [
       "<div>\n",
       "<style scoped>\n",
       "    .dataframe tbody tr th:only-of-type {\n",
       "        vertical-align: middle;\n",
       "    }\n",
       "\n",
       "    .dataframe tbody tr th {\n",
       "        vertical-align: top;\n",
       "    }\n",
       "\n",
       "    .dataframe thead th {\n",
       "        text-align: right;\n",
       "    }\n",
       "</style>\n",
       "<table border=\"1\" class=\"dataframe\">\n",
       "  <thead>\n",
       "    <tr style=\"text-align: right;\">\n",
       "      <th></th>\n",
       "      <th>0</th>\n",
       "      <th>1</th>\n",
       "      <th>2</th>\n",
       "      <th>3</th>\n",
       "      <th>4</th>\n",
       "      <th>5</th>\n",
       "      <th>6</th>\n",
       "      <th>7</th>\n",
       "      <th>8</th>\n",
       "      <th>9</th>\n",
       "      <th>...</th>\n",
       "      <th>83</th>\n",
       "      <th>84</th>\n",
       "      <th>85</th>\n",
       "      <th>86</th>\n",
       "      <th>87</th>\n",
       "      <th>88</th>\n",
       "      <th>89</th>\n",
       "      <th>90</th>\n",
       "      <th>91</th>\n",
       "      <th>92</th>\n",
       "    </tr>\n",
       "  </thead>\n",
       "  <tbody>\n",
       "    <tr>\n",
       "      <th>0</th>\n",
       "      <td>1.000000</td>\n",
       "      <td>0.031332</td>\n",
       "      <td>-0.027807</td>\n",
       "      <td>-0.027529</td>\n",
       "      <td>0.042973</td>\n",
       "      <td>0.043603</td>\n",
       "      <td>0.298952</td>\n",
       "      <td>0.056321</td>\n",
       "      <td>-0.032285</td>\n",
       "      <td>0.097776</td>\n",
       "      <td>...</td>\n",
       "      <td>0.049634</td>\n",
       "      <td>-0.008739</td>\n",
       "      <td>0.107947</td>\n",
       "      <td>0.089374</td>\n",
       "      <td>0.020830</td>\n",
       "      <td>0.096851</td>\n",
       "      <td>0.010310</td>\n",
       "      <td>0.037264</td>\n",
       "      <td>0.054777</td>\n",
       "      <td>0.081783</td>\n",
       "    </tr>\n",
       "    <tr>\n",
       "      <th>1</th>\n",
       "      <td>0.031332</td>\n",
       "      <td>1.000000</td>\n",
       "      <td>0.082573</td>\n",
       "      <td>0.134987</td>\n",
       "      <td>0.020926</td>\n",
       "      <td>0.041343</td>\n",
       "      <td>0.222386</td>\n",
       "      <td>0.019815</td>\n",
       "      <td>-0.025630</td>\n",
       "      <td>0.051925</td>\n",
       "      <td>...</td>\n",
       "      <td>0.009845</td>\n",
       "      <td>-0.006764</td>\n",
       "      <td>-0.039090</td>\n",
       "      <td>0.047451</td>\n",
       "      <td>-0.047035</td>\n",
       "      <td>0.105527</td>\n",
       "      <td>0.515022</td>\n",
       "      <td>0.026383</td>\n",
       "      <td>-0.008219</td>\n",
       "      <td>0.054593</td>\n",
       "    </tr>\n",
       "    <tr>\n",
       "      <th>2</th>\n",
       "      <td>-0.027807</td>\n",
       "      <td>0.082573</td>\n",
       "      <td>1.000000</td>\n",
       "      <td>0.583523</td>\n",
       "      <td>0.010880</td>\n",
       "      <td>0.004288</td>\n",
       "      <td>0.001294</td>\n",
       "      <td>-0.053462</td>\n",
       "      <td>-0.063551</td>\n",
       "      <td>0.036944</td>\n",
       "      <td>...</td>\n",
       "      <td>0.011159</td>\n",
       "      <td>-0.048626</td>\n",
       "      <td>-0.096093</td>\n",
       "      <td>-0.009838</td>\n",
       "      <td>-0.082336</td>\n",
       "      <td>0.174781</td>\n",
       "      <td>-0.015068</td>\n",
       "      <td>-0.012417</td>\n",
       "      <td>0.066921</td>\n",
       "      <td>0.006814</td>\n",
       "    </tr>\n",
       "    <tr>\n",
       "      <th>3</th>\n",
       "      <td>-0.027529</td>\n",
       "      <td>0.134987</td>\n",
       "      <td>0.583523</td>\n",
       "      <td>1.000000</td>\n",
       "      <td>0.017290</td>\n",
       "      <td>0.014059</td>\n",
       "      <td>0.014490</td>\n",
       "      <td>-0.046184</td>\n",
       "      <td>-0.046250</td>\n",
       "      <td>0.059514</td>\n",
       "      <td>...</td>\n",
       "      <td>0.005684</td>\n",
       "      <td>-0.033153</td>\n",
       "      <td>-0.071029</td>\n",
       "      <td>0.005055</td>\n",
       "      <td>-0.067484</td>\n",
       "      <td>0.183715</td>\n",
       "      <td>0.009454</td>\n",
       "      <td>-0.010312</td>\n",
       "      <td>0.087631</td>\n",
       "      <td>0.015746</td>\n",
       "    </tr>\n",
       "    <tr>\n",
       "      <th>4</th>\n",
       "      <td>0.042973</td>\n",
       "      <td>0.020926</td>\n",
       "      <td>0.010880</td>\n",
       "      <td>0.017290</td>\n",
       "      <td>1.000000</td>\n",
       "      <td>0.145355</td>\n",
       "      <td>0.075047</td>\n",
       "      <td>0.035861</td>\n",
       "      <td>-0.024708</td>\n",
       "      <td>0.091324</td>\n",
       "      <td>...</td>\n",
       "      <td>0.467329</td>\n",
       "      <td>0.034062</td>\n",
       "      <td>0.013879</td>\n",
       "      <td>0.013999</td>\n",
       "      <td>-0.019201</td>\n",
       "      <td>0.119951</td>\n",
       "      <td>0.004842</td>\n",
       "      <td>0.012012</td>\n",
       "      <td>0.065331</td>\n",
       "      <td>0.002038</td>\n",
       "    </tr>\n",
       "  </tbody>\n",
       "</table>\n",
       "<p>5 rows × 93 columns</p>\n",
       "</div>"
      ],
      "text/plain": [
       "         0         1         2         3         4         5         6   \\\n",
       "0  1.000000  0.031332 -0.027807 -0.027529  0.042973  0.043603  0.298952   \n",
       "1  0.031332  1.000000  0.082573  0.134987  0.020926  0.041343  0.222386   \n",
       "2 -0.027807  0.082573  1.000000  0.583523  0.010880  0.004288  0.001294   \n",
       "3 -0.027529  0.134987  0.583523  1.000000  0.017290  0.014059  0.014490   \n",
       "4  0.042973  0.020926  0.010880  0.017290  1.000000  0.145355  0.075047   \n",
       "\n",
       "         7         8         9   ...        83        84        85        86  \\\n",
       "0  0.056321 -0.032285  0.097776  ...  0.049634 -0.008739  0.107947  0.089374   \n",
       "1  0.019815 -0.025630  0.051925  ...  0.009845 -0.006764 -0.039090  0.047451   \n",
       "2 -0.053462 -0.063551  0.036944  ...  0.011159 -0.048626 -0.096093 -0.009838   \n",
       "3 -0.046184 -0.046250  0.059514  ...  0.005684 -0.033153 -0.071029  0.005055   \n",
       "4  0.035861 -0.024708  0.091324  ...  0.467329  0.034062  0.013879  0.013999   \n",
       "\n",
       "         87        88        89        90        91        92  \n",
       "0  0.020830  0.096851  0.010310  0.037264  0.054777  0.081783  \n",
       "1 -0.047035  0.105527  0.515022  0.026383 -0.008219  0.054593  \n",
       "2 -0.082336  0.174781 -0.015068 -0.012417  0.066921  0.006814  \n",
       "3 -0.067484  0.183715  0.009454 -0.010312  0.087631  0.015746  \n",
       "4 -0.019201  0.119951  0.004842  0.012012  0.065331  0.002038  \n",
       "\n",
       "[5 rows x 93 columns]"
      ]
     },
     "execution_count": 30,
     "metadata": {},
     "output_type": "execute_result"
    }
   ],
   "source": [
    "train_corr=train.corr()\n",
    "train_corr.head()"
   ]
  },
  {
   "cell_type": "code",
   "execution_count": 31,
   "metadata": {},
   "outputs": [
    {
     "name": "stdout",
     "output_type": "stream",
     "text": [
      "columns : 1 and index 89 0.515021939787838\n",
      "columns : 2 and index 3 0.5835232203459249\n",
      "columns : 2 and index 10 0.5962430076613688\n",
      "columns : 2 and index 26 0.5083695809016442\n",
      "columns : 2 and index 27 0.5513979091523036\n",
      "columns : 2 and index 45 0.7775172869087756\n",
      "columns : 2 and index 53 0.6940483715101846\n",
      "columns : 3 and index 2 0.5835232203459249\n",
      "columns : 3 and index 34 0.5544741429334893\n",
      "columns : 3 and index 53 0.525455656743003\n",
      "columns : 6 and index 77 0.5670836123120604\n",
      "columns : 7 and index 35 0.606706773376812\n",
      "columns : 8 and index 31 0.5684174196578917\n",
      "columns : 8 and index 63 0.7029513594531267\n",
      "columns : 10 and index 2 0.5962430076613688\n",
      "columns : 10 and index 26 0.5994842086997451\n",
      "columns : 10 and index 45 0.5792721477422468\n",
      "columns : 10 and index 60 0.5438583070296544\n",
      "columns : 10 and index 79 0.5618432241507125\n",
      "columns : 13 and index 24 0.5579287428125167\n",
      "columns : 14 and index 71 0.7646636230211049\n",
      "columns : 21 and index 53 0.5021678096523746\n",
      "columns : 24 and index 13 0.5579287428125167\n",
      "columns : 26 and index 2 0.5083695809016442\n",
      "columns : 26 and index 10 0.5994842086997451\n",
      "columns : 26 and index 45 0.5726778249138286\n",
      "columns : 26 and index 60 0.500028794551861\n",
      "columns : 27 and index 2 0.5513979091523036\n",
      "columns : 27 and index 53 0.5402380818454836\n",
      "columns : 28 and index 76 0.6128473208168901\n",
      "columns : 29 and index 83 0.716861896529469\n",
      "columns : 30 and index 34 0.5562029984673306\n",
      "columns : 31 and index 8 0.5684174196578917\n",
      "columns : 34 and index 3 0.5544741429334893\n",
      "columns : 34 and index 30 0.5562029984673306\n",
      "columns : 35 and index 7 0.606706773376812\n",
      "columns : 38 and index 44 0.8241457123094792\n",
      "columns : 44 and index 38 0.8241457123094792\n",
      "columns : 45 and index 2 0.7775172869087756\n",
      "columns : 45 and index 10 0.5792721477422468\n",
      "columns : 45 and index 26 0.5726778249138286\n",
      "columns : 45 and index 53 0.569484378119612\n",
      "columns : 45 and index 60 0.5027941998032953\n",
      "columns : 51 and index 73 0.554737006053382\n",
      "columns : 53 and index 2 0.6940483715101846\n",
      "columns : 53 and index 3 0.525455656743003\n",
      "columns : 53 and index 21 0.5021678096523746\n",
      "columns : 53 and index 27 0.5402380818454836\n",
      "columns : 53 and index 45 0.569484378119612\n",
      "columns : 60 and index 10 0.5438583070296544\n",
      "columns : 60 and index 26 0.500028794551861\n",
      "columns : 60 and index 45 0.5027941998032953\n",
      "columns : 60 and index 79 0.5751013764665115\n",
      "columns : 63 and index 8 0.7029513594531267\n",
      "columns : 68 and index 89 0.5494891228930484\n",
      "columns : 71 and index 14 0.7646636230211049\n",
      "columns : 73 and index 51 0.554737006053382\n",
      "columns : 76 and index 28 0.6128473208168901\n",
      "columns : 77 and index 6 0.5670836123120604\n",
      "columns : 79 and index 10 0.5618432241507125\n",
      "columns : 79 and index 60 0.5751013764665115\n",
      "columns : 79 and index 81 0.5226160576853482\n",
      "columns : 81 and index 79 0.5226160576853482\n",
      "columns : 83 and index 29 0.716861896529469\n",
      "columns : 89 and index 1 0.515021939787838\n",
      "columns : 89 and index 68 0.5494891228930484\n"
     ]
    }
   ],
   "source": [
    "a = []\n",
    "for i in train_corr.columns:\n",
    "    for j in train_corr.index:\n",
    "        if train_corr.loc[j,i] > 0.5 and train_corr.loc[j,i] != 1:\n",
    "            print(f'columns : {i} and index {j}', train_corr.loc[j,i])\n",
    "            a.append(i)"
   ]
  },
  {
   "cell_type": "code",
   "execution_count": 32,
   "metadata": {},
   "outputs": [
    {
     "data": {
      "text/html": [
       "<div>\n",
       "<style scoped>\n",
       "    .dataframe tbody tr th:only-of-type {\n",
       "        vertical-align: middle;\n",
       "    }\n",
       "\n",
       "    .dataframe tbody tr th {\n",
       "        vertical-align: top;\n",
       "    }\n",
       "\n",
       "    .dataframe thead th {\n",
       "        text-align: right;\n",
       "    }\n",
       "</style>\n",
       "<table border=\"1\" class=\"dataframe\">\n",
       "  <thead>\n",
       "    <tr style=\"text-align: right;\">\n",
       "      <th></th>\n",
       "      <th>0</th>\n",
       "      <th>1</th>\n",
       "      <th>2</th>\n",
       "      <th>3</th>\n",
       "      <th>4</th>\n",
       "      <th>5</th>\n",
       "      <th>6</th>\n",
       "      <th>7</th>\n",
       "      <th>8</th>\n",
       "      <th>9</th>\n",
       "      <th>...</th>\n",
       "      <th>83</th>\n",
       "      <th>84</th>\n",
       "      <th>85</th>\n",
       "      <th>86</th>\n",
       "      <th>87</th>\n",
       "      <th>88</th>\n",
       "      <th>89</th>\n",
       "      <th>90</th>\n",
       "      <th>91</th>\n",
       "      <th>92</th>\n",
       "    </tr>\n",
       "  </thead>\n",
       "  <tbody>\n",
       "    <tr>\n",
       "      <th>0</th>\n",
       "      <td>0.016393</td>\n",
       "      <td>0.0</td>\n",
       "      <td>0.0</td>\n",
       "      <td>0.000000</td>\n",
       "      <td>0.000000</td>\n",
       "      <td>0.0</td>\n",
       "      <td>0.000000</td>\n",
       "      <td>0.000000</td>\n",
       "      <td>0.000000</td>\n",
       "      <td>0.000000</td>\n",
       "      <td>...</td>\n",
       "      <td>0.000000</td>\n",
       "      <td>0.018182</td>\n",
       "      <td>0.000000</td>\n",
       "      <td>0.000000</td>\n",
       "      <td>0.0</td>\n",
       "      <td>0.000000</td>\n",
       "      <td>0.000000</td>\n",
       "      <td>0.000000</td>\n",
       "      <td>0.000000</td>\n",
       "      <td>0.0</td>\n",
       "    </tr>\n",
       "    <tr>\n",
       "      <th>1</th>\n",
       "      <td>0.000000</td>\n",
       "      <td>0.0</td>\n",
       "      <td>0.0</td>\n",
       "      <td>0.000000</td>\n",
       "      <td>0.000000</td>\n",
       "      <td>0.0</td>\n",
       "      <td>0.000000</td>\n",
       "      <td>0.013158</td>\n",
       "      <td>0.000000</td>\n",
       "      <td>0.000000</td>\n",
       "      <td>...</td>\n",
       "      <td>0.000000</td>\n",
       "      <td>0.000000</td>\n",
       "      <td>0.000000</td>\n",
       "      <td>0.000000</td>\n",
       "      <td>0.0</td>\n",
       "      <td>0.000000</td>\n",
       "      <td>0.000000</td>\n",
       "      <td>0.000000</td>\n",
       "      <td>0.000000</td>\n",
       "      <td>0.0</td>\n",
       "    </tr>\n",
       "    <tr>\n",
       "      <th>2</th>\n",
       "      <td>0.000000</td>\n",
       "      <td>0.0</td>\n",
       "      <td>0.0</td>\n",
       "      <td>0.000000</td>\n",
       "      <td>0.000000</td>\n",
       "      <td>0.0</td>\n",
       "      <td>0.000000</td>\n",
       "      <td>0.013158</td>\n",
       "      <td>0.000000</td>\n",
       "      <td>0.000000</td>\n",
       "      <td>...</td>\n",
       "      <td>0.000000</td>\n",
       "      <td>0.000000</td>\n",
       "      <td>0.000000</td>\n",
       "      <td>0.000000</td>\n",
       "      <td>0.0</td>\n",
       "      <td>0.000000</td>\n",
       "      <td>0.000000</td>\n",
       "      <td>0.000000</td>\n",
       "      <td>0.000000</td>\n",
       "      <td>0.0</td>\n",
       "    </tr>\n",
       "    <tr>\n",
       "      <th>3</th>\n",
       "      <td>0.016393</td>\n",
       "      <td>0.0</td>\n",
       "      <td>0.0</td>\n",
       "      <td>0.014286</td>\n",
       "      <td>0.315789</td>\n",
       "      <td>0.1</td>\n",
       "      <td>0.131579</td>\n",
       "      <td>0.000000</td>\n",
       "      <td>0.000000</td>\n",
       "      <td>0.033333</td>\n",
       "      <td>...</td>\n",
       "      <td>0.289474</td>\n",
       "      <td>0.000000</td>\n",
       "      <td>0.015385</td>\n",
       "      <td>0.029851</td>\n",
       "      <td>0.0</td>\n",
       "      <td>0.000000</td>\n",
       "      <td>0.000000</td>\n",
       "      <td>0.000000</td>\n",
       "      <td>0.000000</td>\n",
       "      <td>0.0</td>\n",
       "    </tr>\n",
       "    <tr>\n",
       "      <th>4</th>\n",
       "      <td>0.000000</td>\n",
       "      <td>0.0</td>\n",
       "      <td>0.0</td>\n",
       "      <td>0.000000</td>\n",
       "      <td>0.000000</td>\n",
       "      <td>0.0</td>\n",
       "      <td>0.000000</td>\n",
       "      <td>0.000000</td>\n",
       "      <td>0.000000</td>\n",
       "      <td>0.000000</td>\n",
       "      <td>...</td>\n",
       "      <td>0.000000</td>\n",
       "      <td>0.018182</td>\n",
       "      <td>0.000000</td>\n",
       "      <td>0.000000</td>\n",
       "      <td>0.0</td>\n",
       "      <td>0.000000</td>\n",
       "      <td>0.007692</td>\n",
       "      <td>0.000000</td>\n",
       "      <td>0.000000</td>\n",
       "      <td>0.0</td>\n",
       "    </tr>\n",
       "    <tr>\n",
       "      <th>...</th>\n",
       "      <td>...</td>\n",
       "      <td>...</td>\n",
       "      <td>...</td>\n",
       "      <td>...</td>\n",
       "      <td>...</td>\n",
       "      <td>...</td>\n",
       "      <td>...</td>\n",
       "      <td>...</td>\n",
       "      <td>...</td>\n",
       "      <td>...</td>\n",
       "      <td>...</td>\n",
       "      <td>...</td>\n",
       "      <td>...</td>\n",
       "      <td>...</td>\n",
       "      <td>...</td>\n",
       "      <td>...</td>\n",
       "      <td>...</td>\n",
       "      <td>...</td>\n",
       "      <td>...</td>\n",
       "      <td>...</td>\n",
       "      <td>...</td>\n",
       "    </tr>\n",
       "    <tr>\n",
       "      <th>61873</th>\n",
       "      <td>0.016393</td>\n",
       "      <td>0.0</td>\n",
       "      <td>0.0</td>\n",
       "      <td>0.014286</td>\n",
       "      <td>0.052632</td>\n",
       "      <td>0.0</td>\n",
       "      <td>0.000000</td>\n",
       "      <td>0.000000</td>\n",
       "      <td>0.000000</td>\n",
       "      <td>0.000000</td>\n",
       "      <td>...</td>\n",
       "      <td>0.000000</td>\n",
       "      <td>0.018182</td>\n",
       "      <td>0.000000</td>\n",
       "      <td>0.000000</td>\n",
       "      <td>0.0</td>\n",
       "      <td>0.000000</td>\n",
       "      <td>0.000000</td>\n",
       "      <td>0.000000</td>\n",
       "      <td>0.105263</td>\n",
       "      <td>0.0</td>\n",
       "    </tr>\n",
       "    <tr>\n",
       "      <th>61874</th>\n",
       "      <td>0.065574</td>\n",
       "      <td>0.0</td>\n",
       "      <td>0.0</td>\n",
       "      <td>0.000000</td>\n",
       "      <td>0.000000</td>\n",
       "      <td>0.0</td>\n",
       "      <td>0.000000</td>\n",
       "      <td>0.000000</td>\n",
       "      <td>0.000000</td>\n",
       "      <td>0.000000</td>\n",
       "      <td>...</td>\n",
       "      <td>0.000000</td>\n",
       "      <td>0.000000</td>\n",
       "      <td>0.030769</td>\n",
       "      <td>0.000000</td>\n",
       "      <td>0.0</td>\n",
       "      <td>0.032787</td>\n",
       "      <td>0.000000</td>\n",
       "      <td>0.000000</td>\n",
       "      <td>0.052632</td>\n",
       "      <td>0.0</td>\n",
       "    </tr>\n",
       "    <tr>\n",
       "      <th>61875</th>\n",
       "      <td>0.000000</td>\n",
       "      <td>0.0</td>\n",
       "      <td>0.0</td>\n",
       "      <td>0.000000</td>\n",
       "      <td>0.000000</td>\n",
       "      <td>0.0</td>\n",
       "      <td>0.000000</td>\n",
       "      <td>0.039474</td>\n",
       "      <td>0.023256</td>\n",
       "      <td>0.000000</td>\n",
       "      <td>...</td>\n",
       "      <td>0.000000</td>\n",
       "      <td>0.000000</td>\n",
       "      <td>0.046154</td>\n",
       "      <td>0.014925</td>\n",
       "      <td>0.0</td>\n",
       "      <td>0.000000</td>\n",
       "      <td>0.000000</td>\n",
       "      <td>0.000000</td>\n",
       "      <td>0.000000</td>\n",
       "      <td>0.0</td>\n",
       "    </tr>\n",
       "    <tr>\n",
       "      <th>61876</th>\n",
       "      <td>0.016393</td>\n",
       "      <td>0.0</td>\n",
       "      <td>0.0</td>\n",
       "      <td>0.000000</td>\n",
       "      <td>0.000000</td>\n",
       "      <td>0.0</td>\n",
       "      <td>0.000000</td>\n",
       "      <td>0.000000</td>\n",
       "      <td>0.000000</td>\n",
       "      <td>0.000000</td>\n",
       "      <td>...</td>\n",
       "      <td>0.000000</td>\n",
       "      <td>0.000000</td>\n",
       "      <td>0.000000</td>\n",
       "      <td>0.000000</td>\n",
       "      <td>0.0</td>\n",
       "      <td>0.016393</td>\n",
       "      <td>0.000000</td>\n",
       "      <td>0.057692</td>\n",
       "      <td>0.526316</td>\n",
       "      <td>0.0</td>\n",
       "    </tr>\n",
       "    <tr>\n",
       "      <th>61877</th>\n",
       "      <td>0.000000</td>\n",
       "      <td>0.0</td>\n",
       "      <td>0.0</td>\n",
       "      <td>0.000000</td>\n",
       "      <td>0.000000</td>\n",
       "      <td>0.0</td>\n",
       "      <td>0.000000</td>\n",
       "      <td>0.000000</td>\n",
       "      <td>0.000000</td>\n",
       "      <td>0.000000</td>\n",
       "      <td>...</td>\n",
       "      <td>0.000000</td>\n",
       "      <td>0.000000</td>\n",
       "      <td>0.000000</td>\n",
       "      <td>0.000000</td>\n",
       "      <td>0.0</td>\n",
       "      <td>0.000000</td>\n",
       "      <td>0.000000</td>\n",
       "      <td>0.000000</td>\n",
       "      <td>0.105263</td>\n",
       "      <td>0.0</td>\n",
       "    </tr>\n",
       "  </tbody>\n",
       "</table>\n",
       "<p>61878 rows × 93 columns</p>\n",
       "</div>"
      ],
      "text/plain": [
       "             0    1    2         3         4    5         6         7   \\\n",
       "0      0.016393  0.0  0.0  0.000000  0.000000  0.0  0.000000  0.000000   \n",
       "1      0.000000  0.0  0.0  0.000000  0.000000  0.0  0.000000  0.013158   \n",
       "2      0.000000  0.0  0.0  0.000000  0.000000  0.0  0.000000  0.013158   \n",
       "3      0.016393  0.0  0.0  0.014286  0.315789  0.1  0.131579  0.000000   \n",
       "4      0.000000  0.0  0.0  0.000000  0.000000  0.0  0.000000  0.000000   \n",
       "...         ...  ...  ...       ...       ...  ...       ...       ...   \n",
       "61873  0.016393  0.0  0.0  0.014286  0.052632  0.0  0.000000  0.000000   \n",
       "61874  0.065574  0.0  0.0  0.000000  0.000000  0.0  0.000000  0.000000   \n",
       "61875  0.000000  0.0  0.0  0.000000  0.000000  0.0  0.000000  0.039474   \n",
       "61876  0.016393  0.0  0.0  0.000000  0.000000  0.0  0.000000  0.000000   \n",
       "61877  0.000000  0.0  0.0  0.000000  0.000000  0.0  0.000000  0.000000   \n",
       "\n",
       "             8         9   ...        83        84        85        86   87  \\\n",
       "0      0.000000  0.000000  ...  0.000000  0.018182  0.000000  0.000000  0.0   \n",
       "1      0.000000  0.000000  ...  0.000000  0.000000  0.000000  0.000000  0.0   \n",
       "2      0.000000  0.000000  ...  0.000000  0.000000  0.000000  0.000000  0.0   \n",
       "3      0.000000  0.033333  ...  0.289474  0.000000  0.015385  0.029851  0.0   \n",
       "4      0.000000  0.000000  ...  0.000000  0.018182  0.000000  0.000000  0.0   \n",
       "...         ...       ...  ...       ...       ...       ...       ...  ...   \n",
       "61873  0.000000  0.000000  ...  0.000000  0.018182  0.000000  0.000000  0.0   \n",
       "61874  0.000000  0.000000  ...  0.000000  0.000000  0.030769  0.000000  0.0   \n",
       "61875  0.023256  0.000000  ...  0.000000  0.000000  0.046154  0.014925  0.0   \n",
       "61876  0.000000  0.000000  ...  0.000000  0.000000  0.000000  0.000000  0.0   \n",
       "61877  0.000000  0.000000  ...  0.000000  0.000000  0.000000  0.000000  0.0   \n",
       "\n",
       "             88        89        90        91   92  \n",
       "0      0.000000  0.000000  0.000000  0.000000  0.0  \n",
       "1      0.000000  0.000000  0.000000  0.000000  0.0  \n",
       "2      0.000000  0.000000  0.000000  0.000000  0.0  \n",
       "3      0.000000  0.000000  0.000000  0.000000  0.0  \n",
       "4      0.000000  0.007692  0.000000  0.000000  0.0  \n",
       "...         ...       ...       ...       ...  ...  \n",
       "61873  0.000000  0.000000  0.000000  0.105263  0.0  \n",
       "61874  0.032787  0.000000  0.000000  0.052632  0.0  \n",
       "61875  0.000000  0.000000  0.000000  0.000000  0.0  \n",
       "61876  0.016393  0.000000  0.057692  0.526316  0.0  \n",
       "61877  0.000000  0.000000  0.000000  0.105263  0.0  \n",
       "\n",
       "[61878 rows x 93 columns]"
      ]
     },
     "execution_count": 32,
     "metadata": {},
     "output_type": "execute_result"
    }
   ],
   "source": [
    "train"
   ]
  },
  {
   "cell_type": "markdown",
   "metadata": {},
   "source": [
    "# 2-3"
   ]
  },
  {
   "cell_type": "code",
   "execution_count": 33,
   "metadata": {},
   "outputs": [
    {
     "data": {
      "text/plain": [
       "<AxesSubplot:xlabel='2', ylabel='3'>"
      ]
     },
     "execution_count": 33,
     "metadata": {},
     "output_type": "execute_result"
    },
    {
     "data": {
      "image/png": "[encoded data removed]",
      "text/plain": [
       "<Figure size 432x288 with 1 Axes>"
      ]
     },
     "metadata": {
      "needs_background": "light"
     },
     "output_type": "display_data"
    }
   ],
   "source": [
    "sns.scatterplot(data = train, x = 2, y =3)"
   ]
  },
  {
   "cell_type": "code",
   "execution_count": 34,
   "metadata": {},
   "outputs": [
    {
     "data": {
      "text/plain": [
       "<AxesSubplot:xlabel='2', ylabel='target'>"
      ]
     },
     "execution_count": 34,
     "metadata": {},
     "output_type": "execute_result"
    },
    {
     "data": {
      "image/png": "[encoded data removed]",
      "text/plain": [
       "<Figure size 432x288 with 1 Axes>"
      ]
     },
     "metadata": {
      "needs_background": "light"
     },
     "output_type": "display_data"
    }
   ],
   "source": [
    "sns.barplot(data = train, x = 2, y = target)"
   ]
  },
  {
   "cell_type": "code",
   "execution_count": 35,
   "metadata": {},
   "outputs": [
    {
     "data": {
      "text/plain": [
       "<AxesSubplot:xlabel='3', ylabel='target'>"
      ]
     },
     "execution_count": 35,
     "metadata": {},
     "output_type": "execute_result"
    },
    {
     "data": {
      "image/png": "[encoded data removed]",
      "text/plain": [
       "<Figure size 432x288 with 1 Axes>"
      ]
     },
     "metadata": {
      "needs_background": "light"
     },
     "output_type": "display_data"
    }
   ],
   "source": [
    "sns.barplot(data = train, x = 3, y = target)"
   ]
  },
  {
   "cell_type": "markdown",
   "metadata": {},
   "source": [
    "- 2번 3번이 연관이 잇는 것 같다"
   ]
  },
  {
   "cell_type": "markdown",
   "metadata": {},
   "source": [
    "# 1 - 89"
   ]
  },
  {
   "cell_type": "code",
   "execution_count": 36,
   "metadata": {},
   "outputs": [
    {
     "data": {
      "text/plain": [
       "<AxesSubplot:xlabel='1', ylabel='target'>"
      ]
     },
     "execution_count": 36,
     "metadata": {},
     "output_type": "execute_result"
    },
    {
     "data": {
      "image/png": "[encoded data removed]",
      "text/plain": [
       "<Figure size 432x288 with 1 Axes>"
      ]
     },
     "metadata": {
      "needs_background": "light"
     },
     "output_type": "display_data"
    }
   ],
   "source": [
    "sns.barplot(data = train, x = 1, y = target)"
   ]
  },
  {
   "cell_type": "code",
   "execution_count": 37,
   "metadata": {},
   "outputs": [
    {
     "data": {
      "text/plain": [
       "<AxesSubplot:xlabel='89', ylabel='target'>"
      ]
     },
     "execution_count": 37,
     "metadata": {},
     "output_type": "execute_result"
    },
    {
     "data": {
      "image/png": "[encoded data removed]",
      "text/plain": [
       "<Figure size 432x288 with 1 Axes>"
      ]
     },
     "metadata": {
      "needs_background": "light"
     },
     "output_type": "display_data"
    }
   ],
   "source": [
    "sns.barplot(data = train, x = 89, y = target)"
   ]
  },
  {
   "cell_type": "markdown",
   "metadata": {},
   "source": [
    "# 2- 10"
   ]
  },
  {
   "cell_type": "code",
   "execution_count": 38,
   "metadata": {},
   "outputs": [
    {
     "data": {
      "text/plain": [
       "<AxesSubplot:xlabel='2', ylabel='target'>"
      ]
     },
     "execution_count": 38,
     "metadata": {},
     "output_type": "execute_result"
    },
    {
     "data": {
      "image/png": "[encoded data removed]",
      "text/plain": [
       "<Figure size 432x288 with 1 Axes>"
      ]
     },
     "metadata": {
      "needs_background": "light"
     },
     "output_type": "display_data"
    }
   ],
   "source": [
    "sns.barplot(data = train, x = 2, y = target)"
   ]
  },
  {
   "cell_type": "code",
   "execution_count": 39,
   "metadata": {},
   "outputs": [
    {
     "data": {
      "text/plain": [
       "<AxesSubplot:xlabel='10', ylabel='target'>"
      ]
     },
     "execution_count": 39,
     "metadata": {},
     "output_type": "execute_result"
    },
    {
     "data": {
      "image/png": "[encoded data removed]",
      "text/plain": [
       "<Figure size 432x288 with 1 Axes>"
      ]
     },
     "metadata": {
      "needs_background": "light"
     },
     "output_type": "display_data"
    }
   ],
   "source": [
    "sns.barplot(data = train, x = 10, y = target)"
   ]
  },
  {
   "cell_type": "code",
   "execution_count": 40,
   "metadata": {},
   "outputs": [
    {
     "name": "stdout",
     "output_type": "stream",
     "text": [
      "{1, 2, 3, 6, 7, 8, 10, 13, 14, 21, 24, 26, 27, 28, 29, 30, 31, 34, 35, 38, 44, 45, 51, 53, 60, 63, 68, 71, 73, 76, 77, 79, 81, 83, 89}\n"
     ]
    }
   ],
   "source": [
    "a=set(a)\n",
    "print(a)"
   ]
  },
  {
   "cell_type": "code",
   "execution_count": 41,
   "metadata": {
    "scrolled": false
   },
   "outputs": [
    {
     "data": {
      "text/plain": [
       "[1,\n",
       " 2,\n",
       " 3,\n",
       " 6,\n",
       " 7,\n",
       " 8,\n",
       " 10,\n",
       " 13,\n",
       " 14,\n",
       " 21,\n",
       " 24,\n",
       " 26,\n",
       " 27,\n",
       " 28,\n",
       " 29,\n",
       " 30,\n",
       " 31,\n",
       " 34,\n",
       " 35,\n",
       " 38,\n",
       " 44,\n",
       " 45,\n",
       " 51,\n",
       " 53,\n",
       " 60,\n",
       " 63,\n",
       " 68,\n",
       " 71,\n",
       " 73,\n",
       " 76,\n",
       " 77,\n",
       " 79,\n",
       " 81,\n",
       " 83,\n",
       " 89]"
      ]
     },
     "execution_count": 41,
     "metadata": {},
     "output_type": "execute_result"
    }
   ],
   "source": [
    "a=list(a)\n",
    "a"
   ]
  },
  {
   "cell_type": "code",
   "execution_count": 42,
   "metadata": {},
   "outputs": [],
   "source": [
    "train=train[a]"
   ]
  },
  {
   "cell_type": "code",
   "execution_count": 43,
   "metadata": {},
   "outputs": [
    {
     "data": {
      "text/html": [
       "<div>\n",
       "<style scoped>\n",
       "    .dataframe tbody tr th:only-of-type {\n",
       "        vertical-align: middle;\n",
       "    }\n",
       "\n",
       "    .dataframe tbody tr th {\n",
       "        vertical-align: top;\n",
       "    }\n",
       "\n",
       "    .dataframe thead th {\n",
       "        text-align: right;\n",
       "    }\n",
       "</style>\n",
       "<table border=\"1\" class=\"dataframe\">\n",
       "  <thead>\n",
       "    <tr style=\"text-align: right;\">\n",
       "      <th></th>\n",
       "      <th>1</th>\n",
       "      <th>2</th>\n",
       "      <th>3</th>\n",
       "      <th>6</th>\n",
       "      <th>7</th>\n",
       "      <th>8</th>\n",
       "      <th>10</th>\n",
       "      <th>13</th>\n",
       "      <th>14</th>\n",
       "      <th>21</th>\n",
       "      <th>...</th>\n",
       "      <th>63</th>\n",
       "      <th>68</th>\n",
       "      <th>71</th>\n",
       "      <th>73</th>\n",
       "      <th>76</th>\n",
       "      <th>77</th>\n",
       "      <th>79</th>\n",
       "      <th>81</th>\n",
       "      <th>83</th>\n",
       "      <th>89</th>\n",
       "    </tr>\n",
       "  </thead>\n",
       "  <tbody>\n",
       "    <tr>\n",
       "      <th>0</th>\n",
       "      <td>0.0</td>\n",
       "      <td>0.0</td>\n",
       "      <td>0.000000</td>\n",
       "      <td>0.000000</td>\n",
       "      <td>0.000000</td>\n",
       "      <td>0.000000</td>\n",
       "      <td>0.026316</td>\n",
       "      <td>0.000000</td>\n",
       "      <td>0.000000</td>\n",
       "      <td>0.045455</td>\n",
       "      <td>...</td>\n",
       "      <td>0.000000</td>\n",
       "      <td>0.0</td>\n",
       "      <td>0.000000</td>\n",
       "      <td>0.000000</td>\n",
       "      <td>0.000000</td>\n",
       "      <td>0.0000</td>\n",
       "      <td>0.018519</td>\n",
       "      <td>0.000000</td>\n",
       "      <td>0.000000</td>\n",
       "      <td>0.000000</td>\n",
       "    </tr>\n",
       "    <tr>\n",
       "      <th>1</th>\n",
       "      <td>0.0</td>\n",
       "      <td>0.0</td>\n",
       "      <td>0.000000</td>\n",
       "      <td>0.000000</td>\n",
       "      <td>0.013158</td>\n",
       "      <td>0.000000</td>\n",
       "      <td>0.000000</td>\n",
       "      <td>0.000000</td>\n",
       "      <td>0.000000</td>\n",
       "      <td>0.000000</td>\n",
       "      <td>...</td>\n",
       "      <td>0.013699</td>\n",
       "      <td>0.0</td>\n",
       "      <td>0.000000</td>\n",
       "      <td>0.004329</td>\n",
       "      <td>0.000000</td>\n",
       "      <td>0.0125</td>\n",
       "      <td>0.000000</td>\n",
       "      <td>0.000000</td>\n",
       "      <td>0.000000</td>\n",
       "      <td>0.000000</td>\n",
       "    </tr>\n",
       "    <tr>\n",
       "      <th>2</th>\n",
       "      <td>0.0</td>\n",
       "      <td>0.0</td>\n",
       "      <td>0.000000</td>\n",
       "      <td>0.000000</td>\n",
       "      <td>0.013158</td>\n",
       "      <td>0.000000</td>\n",
       "      <td>0.000000</td>\n",
       "      <td>0.000000</td>\n",
       "      <td>0.000000</td>\n",
       "      <td>0.000000</td>\n",
       "      <td>...</td>\n",
       "      <td>0.000000</td>\n",
       "      <td>0.0</td>\n",
       "      <td>0.000000</td>\n",
       "      <td>0.000000</td>\n",
       "      <td>0.000000</td>\n",
       "      <td>0.0000</td>\n",
       "      <td>0.000000</td>\n",
       "      <td>0.000000</td>\n",
       "      <td>0.000000</td>\n",
       "      <td>0.000000</td>\n",
       "    </tr>\n",
       "    <tr>\n",
       "      <th>3</th>\n",
       "      <td>0.0</td>\n",
       "      <td>0.0</td>\n",
       "      <td>0.014286</td>\n",
       "      <td>0.131579</td>\n",
       "      <td>0.000000</td>\n",
       "      <td>0.000000</td>\n",
       "      <td>0.026316</td>\n",
       "      <td>0.000000</td>\n",
       "      <td>0.000000</td>\n",
       "      <td>0.000000</td>\n",
       "      <td>...</td>\n",
       "      <td>0.000000</td>\n",
       "      <td>0.0</td>\n",
       "      <td>0.000000</td>\n",
       "      <td>0.004329</td>\n",
       "      <td>0.000000</td>\n",
       "      <td>0.0000</td>\n",
       "      <td>0.018519</td>\n",
       "      <td>0.083333</td>\n",
       "      <td>0.289474</td>\n",
       "      <td>0.000000</td>\n",
       "    </tr>\n",
       "    <tr>\n",
       "      <th>4</th>\n",
       "      <td>0.0</td>\n",
       "      <td>0.0</td>\n",
       "      <td>0.000000</td>\n",
       "      <td>0.000000</td>\n",
       "      <td>0.000000</td>\n",
       "      <td>0.000000</td>\n",
       "      <td>0.000000</td>\n",
       "      <td>0.000000</td>\n",
       "      <td>0.000000</td>\n",
       "      <td>0.000000</td>\n",
       "      <td>...</td>\n",
       "      <td>0.000000</td>\n",
       "      <td>0.0</td>\n",
       "      <td>0.000000</td>\n",
       "      <td>0.000000</td>\n",
       "      <td>0.000000</td>\n",
       "      <td>0.0000</td>\n",
       "      <td>0.000000</td>\n",
       "      <td>0.000000</td>\n",
       "      <td>0.000000</td>\n",
       "      <td>0.007692</td>\n",
       "    </tr>\n",
       "    <tr>\n",
       "      <th>...</th>\n",
       "      <td>...</td>\n",
       "      <td>...</td>\n",
       "      <td>...</td>\n",
       "      <td>...</td>\n",
       "      <td>...</td>\n",
       "      <td>...</td>\n",
       "      <td>...</td>\n",
       "      <td>...</td>\n",
       "      <td>...</td>\n",
       "      <td>...</td>\n",
       "      <td>...</td>\n",
       "      <td>...</td>\n",
       "      <td>...</td>\n",
       "      <td>...</td>\n",
       "      <td>...</td>\n",
       "      <td>...</td>\n",
       "      <td>...</td>\n",
       "      <td>...</td>\n",
       "      <td>...</td>\n",
       "      <td>...</td>\n",
       "      <td>...</td>\n",
       "    </tr>\n",
       "    <tr>\n",
       "      <th>61873</th>\n",
       "      <td>0.0</td>\n",
       "      <td>0.0</td>\n",
       "      <td>0.014286</td>\n",
       "      <td>0.000000</td>\n",
       "      <td>0.000000</td>\n",
       "      <td>0.000000</td>\n",
       "      <td>0.000000</td>\n",
       "      <td>0.000000</td>\n",
       "      <td>0.000000</td>\n",
       "      <td>0.318182</td>\n",
       "      <td>...</td>\n",
       "      <td>0.013699</td>\n",
       "      <td>0.0</td>\n",
       "      <td>0.033333</td>\n",
       "      <td>0.008658</td>\n",
       "      <td>1.000000</td>\n",
       "      <td>0.0000</td>\n",
       "      <td>0.000000</td>\n",
       "      <td>0.000000</td>\n",
       "      <td>0.000000</td>\n",
       "      <td>0.000000</td>\n",
       "    </tr>\n",
       "    <tr>\n",
       "      <th>61874</th>\n",
       "      <td>0.0</td>\n",
       "      <td>0.0</td>\n",
       "      <td>0.000000</td>\n",
       "      <td>0.000000</td>\n",
       "      <td>0.000000</td>\n",
       "      <td>0.000000</td>\n",
       "      <td>0.000000</td>\n",
       "      <td>0.060606</td>\n",
       "      <td>0.000000</td>\n",
       "      <td>0.000000</td>\n",
       "      <td>...</td>\n",
       "      <td>0.000000</td>\n",
       "      <td>0.0</td>\n",
       "      <td>0.000000</td>\n",
       "      <td>0.000000</td>\n",
       "      <td>0.034483</td>\n",
       "      <td>0.0000</td>\n",
       "      <td>0.000000</td>\n",
       "      <td>0.000000</td>\n",
       "      <td>0.000000</td>\n",
       "      <td>0.000000</td>\n",
       "    </tr>\n",
       "    <tr>\n",
       "      <th>61875</th>\n",
       "      <td>0.0</td>\n",
       "      <td>0.0</td>\n",
       "      <td>0.000000</td>\n",
       "      <td>0.000000</td>\n",
       "      <td>0.039474</td>\n",
       "      <td>0.023256</td>\n",
       "      <td>0.000000</td>\n",
       "      <td>0.030303</td>\n",
       "      <td>0.000000</td>\n",
       "      <td>0.000000</td>\n",
       "      <td>...</td>\n",
       "      <td>0.000000</td>\n",
       "      <td>0.0</td>\n",
       "      <td>0.066667</td>\n",
       "      <td>0.000000</td>\n",
       "      <td>0.000000</td>\n",
       "      <td>0.0000</td>\n",
       "      <td>0.000000</td>\n",
       "      <td>0.000000</td>\n",
       "      <td>0.000000</td>\n",
       "      <td>0.000000</td>\n",
       "    </tr>\n",
       "    <tr>\n",
       "      <th>61876</th>\n",
       "      <td>0.0</td>\n",
       "      <td>0.0</td>\n",
       "      <td>0.000000</td>\n",
       "      <td>0.000000</td>\n",
       "      <td>0.000000</td>\n",
       "      <td>0.000000</td>\n",
       "      <td>0.000000</td>\n",
       "      <td>0.000000</td>\n",
       "      <td>0.000000</td>\n",
       "      <td>0.000000</td>\n",
       "      <td>...</td>\n",
       "      <td>0.000000</td>\n",
       "      <td>0.0</td>\n",
       "      <td>0.000000</td>\n",
       "      <td>0.000000</td>\n",
       "      <td>0.000000</td>\n",
       "      <td>0.0000</td>\n",
       "      <td>0.000000</td>\n",
       "      <td>0.000000</td>\n",
       "      <td>0.000000</td>\n",
       "      <td>0.000000</td>\n",
       "    </tr>\n",
       "    <tr>\n",
       "      <th>61877</th>\n",
       "      <td>0.0</td>\n",
       "      <td>0.0</td>\n",
       "      <td>0.000000</td>\n",
       "      <td>0.000000</td>\n",
       "      <td>0.000000</td>\n",
       "      <td>0.000000</td>\n",
       "      <td>0.000000</td>\n",
       "      <td>0.000000</td>\n",
       "      <td>0.021739</td>\n",
       "      <td>0.136364</td>\n",
       "      <td>...</td>\n",
       "      <td>0.000000</td>\n",
       "      <td>0.0</td>\n",
       "      <td>0.000000</td>\n",
       "      <td>0.012987</td>\n",
       "      <td>0.000000</td>\n",
       "      <td>0.0000</td>\n",
       "      <td>0.000000</td>\n",
       "      <td>0.000000</td>\n",
       "      <td>0.000000</td>\n",
       "      <td>0.000000</td>\n",
       "    </tr>\n",
       "  </tbody>\n",
       "</table>\n",
       "<p>61878 rows × 35 columns</p>\n",
       "</div>"
      ],
      "text/plain": [
       "        1    2         3         6         7         8         10        13  \\\n",
       "0      0.0  0.0  0.000000  0.000000  0.000000  0.000000  0.026316  0.000000   \n",
       "1      0.0  0.0  0.000000  0.000000  0.013158  0.000000  0.000000  0.000000   \n",
       "2      0.0  0.0  0.000000  0.000000  0.013158  0.000000  0.000000  0.000000   \n",
       "3      0.0  0.0  0.014286  0.131579  0.000000  0.000000  0.026316  0.000000   \n",
       "4      0.0  0.0  0.000000  0.000000  0.000000  0.000000  0.000000  0.000000   \n",
       "...    ...  ...       ...       ...       ...       ...       ...       ...   \n",
       "61873  0.0  0.0  0.014286  0.000000  0.000000  0.000000  0.000000  0.000000   \n",
       "61874  0.0  0.0  0.000000  0.000000  0.000000  0.000000  0.000000  0.060606   \n",
       "61875  0.0  0.0  0.000000  0.000000  0.039474  0.023256  0.000000  0.030303   \n",
       "61876  0.0  0.0  0.000000  0.000000  0.000000  0.000000  0.000000  0.000000   \n",
       "61877  0.0  0.0  0.000000  0.000000  0.000000  0.000000  0.000000  0.000000   \n",
       "\n",
       "             14        21  ...        63   68        71        73        76  \\\n",
       "0      0.000000  0.045455  ...  0.000000  0.0  0.000000  0.000000  0.000000   \n",
       "1      0.000000  0.000000  ...  0.013699  0.0  0.000000  0.004329  0.000000   \n",
       "2      0.000000  0.000000  ...  0.000000  0.0  0.000000  0.000000  0.000000   \n",
       "3      0.000000  0.000000  ...  0.000000  0.0  0.000000  0.004329  0.000000   \n",
       "4      0.000000  0.000000  ...  0.000000  0.0  0.000000  0.000000  0.000000   \n",
       "...         ...       ...  ...       ...  ...       ...       ...       ...   \n",
       "61873  0.000000  0.318182  ...  0.013699  0.0  0.033333  0.008658  1.000000   \n",
       "61874  0.000000  0.000000  ...  0.000000  0.0  0.000000  0.000000  0.034483   \n",
       "61875  0.000000  0.000000  ...  0.000000  0.0  0.066667  0.000000  0.000000   \n",
       "61876  0.000000  0.000000  ...  0.000000  0.0  0.000000  0.000000  0.000000   \n",
       "61877  0.021739  0.136364  ...  0.000000  0.0  0.000000  0.012987  0.000000   \n",
       "\n",
       "           77        79        81        83        89  \n",
       "0      0.0000  0.018519  0.000000  0.000000  0.000000  \n",
       "1      0.0125  0.000000  0.000000  0.000000  0.000000  \n",
       "2      0.0000  0.000000  0.000000  0.000000  0.000000  \n",
       "3      0.0000  0.018519  0.083333  0.289474  0.000000  \n",
       "4      0.0000  0.000000  0.000000  0.000000  0.007692  \n",
       "...       ...       ...       ...       ...       ...  \n",
       "61873  0.0000  0.000000  0.000000  0.000000  0.000000  \n",
       "61874  0.0000  0.000000  0.000000  0.000000  0.000000  \n",
       "61875  0.0000  0.000000  0.000000  0.000000  0.000000  \n",
       "61876  0.0000  0.000000  0.000000  0.000000  0.000000  \n",
       "61877  0.0000  0.000000  0.000000  0.000000  0.000000  \n",
       "\n",
       "[61878 rows x 35 columns]"
      ]
     },
     "execution_count": 43,
     "metadata": {},
     "output_type": "execute_result"
    }
   ],
   "source": [
    "train"
   ]
  },
  {
   "cell_type": "code",
   "execution_count": 44,
   "metadata": {},
   "outputs": [],
   "source": [
    "le =LabelEncoder()\n",
    "target=le.fit_transform(target)"
   ]
  },
  {
   "cell_type": "code",
   "execution_count": 45,
   "metadata": {},
   "outputs": [
    {
     "name": "stdout",
     "output_type": "stream",
     "text": [
      "X_train의 형태 (49502, 35)\n",
      "X_test의 형태 (12376, 35)\n",
      "y_train의 형태 (49502,)\n",
      "y_test의 형태 (12376,)\n"
     ]
    }
   ],
   "source": [
    "X_train, X_test, y_train, y_test = train_test_split(train, target, test_size = 0.2, random_state = 42)\n",
    "print('X_train의 형태' , X_train.shape)\n",
    "print('X_test의 형태' , X_test.shape)\n",
    "print('y_train의 형태' , y_train.shape)\n",
    "print('y_test의 형태' , y_test.shape)"
   ]
  },
  {
   "cell_type": "code",
   "execution_count": 46,
   "metadata": {},
   "outputs": [
    {
     "data": {
      "text/plain": [
       "0.6668552036199095"
      ]
     },
     "execution_count": 46,
     "metadata": {},
     "output_type": "execute_result"
    }
   ],
   "source": [
    "gbc=GradientBoostingClassifier()\n",
    "gbc.fit(X_train, y_train)\n",
    "y_pred = gbc.predict(X_test)\n",
    "np.mean(y_test == y_pred)"
   ]
  },
  {
   "cell_type": "code",
   "execution_count": 47,
   "metadata": {},
   "outputs": [
    {
     "name": "stdout",
     "output_type": "stream",
     "text": [
      "0.6668552036199095\n"
     ]
    }
   ],
   "source": [
    "# print(gbc.score(X_test, y_test))"
   ]
  },
  {
   "cell_type": "code",
   "execution_count": 50,
   "metadata": {},
   "outputs": [
    {
     "data": {
      "text/plain": [
       "0.6947317388493859"
      ]
     },
     "execution_count": 50,
     "metadata": {},
     "output_type": "execute_result"
    }
   ],
   "source": [
    "clf = RandomForestClassifier(n_estimators = 300, criterion = 'gini', max_depth=100, random_state = 10)\n",
    "clf.fit(X_train, y_train)\n",
    "y_pred=clf.predict(X_test)\n",
    "np.mean(y_test == y_pred)"
   ]
  }
 ],
 "metadata": {
  "kernelspec": {
   "display_name": "Python 3",
   "language": "python",
   "name": "python3"
  },
  "language_info": {
   "codemirror_mode": {
    "name": "ipython",
    "version": 3
   },
   "file_extension": ".py",
   "mimetype": "text/x-python",
   "name": "python",
   "nbconvert_exporter": "python",
   "pygments_lexer": "ipython3",
   "version": "3.8.5"
  }
 },
 "nbformat": 4,
 "nbformat_minor": 4
}
