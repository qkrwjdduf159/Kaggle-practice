{
 "cells": [
  {
   "cell_type": "code",
   "execution_count": 1,
   "metadata": {},
   "outputs": [],
   "source": [
    "import numpy as np\n",
    "import pandas as pd\n",
    "import matplotlib.pyplot as plt\n",
    "import seaborn as sns\n",
    "from sklearn.ensemble import GradientBoostingClassifier, AdaBoostClassifier,RandomForestClassifier\n",
    "from sklearn.model_selection import train_test_split\n",
    "from sklearn.preprocessing import LabelEncoder\n",
    "from sklearn.neighbors import KNeighborsClassifier\n",
    "from sklearn.metrics import confusion_matrix\n",
    "from xgboost import XGBClassifier\n",
    "import warnings\n",
    "warnings.filterwarnings('ignore')"
   ]
  },
  {
   "cell_type": "code",
   "execution_count": 2,
   "metadata": {},
   "outputs": [],
   "source": [
    "train = pd.read_csv('train.csv')\n",
    "test = pd.read_csv('test.csv')\n",
    "train = train.drop('id', axis = 1)\n",
    "test = test.drop('id', axis = 1)"
   ]
  },
  {
   "cell_type": "code",
   "execution_count": 3,
   "metadata": {},
   "outputs": [
    {
     "name": "stdout",
     "output_type": "stream",
     "text": [
      "(61878, 94)\n",
      "(144368, 93)\n"
     ]
    }
   ],
   "source": [
    "print(train.shape)\n",
    "print(test.shape)"
   ]
  },
  {
   "cell_type": "code",
   "execution_count": 4,
   "metadata": {},
   "outputs": [
    {
     "data": {
      "text/plain": [
       "<AxesSubplot:xlabel='target', ylabel='feat_48'>"
      ]
     },
     "execution_count": 4,
     "metadata": {},
     "output_type": "execute_result"
    },
    {
     "data": {
      "image/png": "[encoded data removed]",
      "text/plain": [
       "<Figure size 432x288 with 1 Axes>"
      ]
     },
     "metadata": {
      "needs_background": "light"
     },
     "output_type": "display_data"
    }
   ],
   "source": [
    "sns.barplot(data = train, x ='target', y= 'feat_48')"
   ]
  },
  {
   "cell_type": "code",
   "execution_count": 5,
   "metadata": {},
   "outputs": [],
   "source": [
    "train_1=train[train.target == 'Class_1']\n",
    "train_2 = train[train.target == 'Class_2']\n",
    "train_3 = train[train.target == 'Class_3']\n",
    "train_4 = train[train.target == 'Class_4']\n",
    "train_5 = train[train.target == 'Class_5']\n",
    "train_6 = train[train.target == 'Class_6']\n",
    "train_7 = train[train.target == 'Class_7']\n",
    "train_8 = train[train.target == 'Class_8']\n",
    "train_9 = train[train.target == 'Class_9']"
   ]
  },
  {
   "cell_type": "markdown",
   "metadata": {},
   "source": [
    "# train_1"
   ]
  },
  {
   "cell_type": "code",
   "execution_count": 6,
   "metadata": {
    "scrolled": true
   },
   "outputs": [
    {
     "data": {
      "text/html": [
       "<div>\n",
       "<style scoped>\n",
       "    .dataframe tbody tr th:only-of-type {\n",
       "        vertical-align: middle;\n",
       "    }\n",
       "\n",
       "    .dataframe tbody tr th {\n",
       "        vertical-align: top;\n",
       "    }\n",
       "\n",
       "    .dataframe thead th {\n",
       "        text-align: right;\n",
       "    }\n",
       "</style>\n",
       "<table border=\"1\" class=\"dataframe\">\n",
       "  <thead>\n",
       "    <tr style=\"text-align: right;\">\n",
       "      <th></th>\n",
       "      <th>feat_1</th>\n",
       "      <th>feat_2</th>\n",
       "      <th>feat_3</th>\n",
       "      <th>feat_4</th>\n",
       "      <th>feat_5</th>\n",
       "      <th>feat_6</th>\n",
       "      <th>feat_7</th>\n",
       "      <th>feat_8</th>\n",
       "      <th>feat_9</th>\n",
       "      <th>feat_10</th>\n",
       "      <th>...</th>\n",
       "      <th>feat_85</th>\n",
       "      <th>feat_86</th>\n",
       "      <th>feat_87</th>\n",
       "      <th>feat_88</th>\n",
       "      <th>feat_89</th>\n",
       "      <th>feat_90</th>\n",
       "      <th>feat_91</th>\n",
       "      <th>feat_92</th>\n",
       "      <th>feat_93</th>\n",
       "      <th>target</th>\n",
       "    </tr>\n",
       "  </thead>\n",
       "  <tbody>\n",
       "    <tr>\n",
       "      <th>0</th>\n",
       "      <td>1</td>\n",
       "      <td>0</td>\n",
       "      <td>0</td>\n",
       "      <td>0</td>\n",
       "      <td>0</td>\n",
       "      <td>0</td>\n",
       "      <td>0</td>\n",
       "      <td>0</td>\n",
       "      <td>0</td>\n",
       "      <td>0</td>\n",
       "      <td>...</td>\n",
       "      <td>1</td>\n",
       "      <td>0</td>\n",
       "      <td>0</td>\n",
       "      <td>0</td>\n",
       "      <td>0</td>\n",
       "      <td>0</td>\n",
       "      <td>0</td>\n",
       "      <td>0</td>\n",
       "      <td>0</td>\n",
       "      <td>Class_1</td>\n",
       "    </tr>\n",
       "    <tr>\n",
       "      <th>1</th>\n",
       "      <td>0</td>\n",
       "      <td>0</td>\n",
       "      <td>0</td>\n",
       "      <td>0</td>\n",
       "      <td>0</td>\n",
       "      <td>0</td>\n",
       "      <td>0</td>\n",
       "      <td>1</td>\n",
       "      <td>0</td>\n",
       "      <td>0</td>\n",
       "      <td>...</td>\n",
       "      <td>0</td>\n",
       "      <td>0</td>\n",
       "      <td>0</td>\n",
       "      <td>0</td>\n",
       "      <td>0</td>\n",
       "      <td>0</td>\n",
       "      <td>0</td>\n",
       "      <td>0</td>\n",
       "      <td>0</td>\n",
       "      <td>Class_1</td>\n",
       "    </tr>\n",
       "    <tr>\n",
       "      <th>2</th>\n",
       "      <td>0</td>\n",
       "      <td>0</td>\n",
       "      <td>0</td>\n",
       "      <td>0</td>\n",
       "      <td>0</td>\n",
       "      <td>0</td>\n",
       "      <td>0</td>\n",
       "      <td>1</td>\n",
       "      <td>0</td>\n",
       "      <td>0</td>\n",
       "      <td>...</td>\n",
       "      <td>0</td>\n",
       "      <td>0</td>\n",
       "      <td>0</td>\n",
       "      <td>0</td>\n",
       "      <td>0</td>\n",
       "      <td>0</td>\n",
       "      <td>0</td>\n",
       "      <td>0</td>\n",
       "      <td>0</td>\n",
       "      <td>Class_1</td>\n",
       "    </tr>\n",
       "    <tr>\n",
       "      <th>3</th>\n",
       "      <td>1</td>\n",
       "      <td>0</td>\n",
       "      <td>0</td>\n",
       "      <td>1</td>\n",
       "      <td>6</td>\n",
       "      <td>1</td>\n",
       "      <td>5</td>\n",
       "      <td>0</td>\n",
       "      <td>0</td>\n",
       "      <td>1</td>\n",
       "      <td>...</td>\n",
       "      <td>0</td>\n",
       "      <td>1</td>\n",
       "      <td>2</td>\n",
       "      <td>0</td>\n",
       "      <td>0</td>\n",
       "      <td>0</td>\n",
       "      <td>0</td>\n",
       "      <td>0</td>\n",
       "      <td>0</td>\n",
       "      <td>Class_1</td>\n",
       "    </tr>\n",
       "    <tr>\n",
       "      <th>4</th>\n",
       "      <td>0</td>\n",
       "      <td>0</td>\n",
       "      <td>0</td>\n",
       "      <td>0</td>\n",
       "      <td>0</td>\n",
       "      <td>0</td>\n",
       "      <td>0</td>\n",
       "      <td>0</td>\n",
       "      <td>0</td>\n",
       "      <td>0</td>\n",
       "      <td>...</td>\n",
       "      <td>1</td>\n",
       "      <td>0</td>\n",
       "      <td>0</td>\n",
       "      <td>0</td>\n",
       "      <td>0</td>\n",
       "      <td>1</td>\n",
       "      <td>0</td>\n",
       "      <td>0</td>\n",
       "      <td>0</td>\n",
       "      <td>Class_1</td>\n",
       "    </tr>\n",
       "    <tr>\n",
       "      <th>...</th>\n",
       "      <td>...</td>\n",
       "      <td>...</td>\n",
       "      <td>...</td>\n",
       "      <td>...</td>\n",
       "      <td>...</td>\n",
       "      <td>...</td>\n",
       "      <td>...</td>\n",
       "      <td>...</td>\n",
       "      <td>...</td>\n",
       "      <td>...</td>\n",
       "      <td>...</td>\n",
       "      <td>...</td>\n",
       "      <td>...</td>\n",
       "      <td>...</td>\n",
       "      <td>...</td>\n",
       "      <td>...</td>\n",
       "      <td>...</td>\n",
       "      <td>...</td>\n",
       "      <td>...</td>\n",
       "      <td>...</td>\n",
       "      <td>...</td>\n",
       "    </tr>\n",
       "    <tr>\n",
       "      <th>1924</th>\n",
       "      <td>0</td>\n",
       "      <td>1</td>\n",
       "      <td>0</td>\n",
       "      <td>1</td>\n",
       "      <td>0</td>\n",
       "      <td>0</td>\n",
       "      <td>1</td>\n",
       "      <td>2</td>\n",
       "      <td>0</td>\n",
       "      <td>2</td>\n",
       "      <td>...</td>\n",
       "      <td>0</td>\n",
       "      <td>0</td>\n",
       "      <td>0</td>\n",
       "      <td>0</td>\n",
       "      <td>0</td>\n",
       "      <td>0</td>\n",
       "      <td>0</td>\n",
       "      <td>1</td>\n",
       "      <td>0</td>\n",
       "      <td>Class_1</td>\n",
       "    </tr>\n",
       "    <tr>\n",
       "      <th>1925</th>\n",
       "      <td>1</td>\n",
       "      <td>0</td>\n",
       "      <td>0</td>\n",
       "      <td>0</td>\n",
       "      <td>0</td>\n",
       "      <td>0</td>\n",
       "      <td>0</td>\n",
       "      <td>5</td>\n",
       "      <td>0</td>\n",
       "      <td>0</td>\n",
       "      <td>...</td>\n",
       "      <td>0</td>\n",
       "      <td>3</td>\n",
       "      <td>0</td>\n",
       "      <td>0</td>\n",
       "      <td>0</td>\n",
       "      <td>0</td>\n",
       "      <td>1</td>\n",
       "      <td>0</td>\n",
       "      <td>0</td>\n",
       "      <td>Class_1</td>\n",
       "    </tr>\n",
       "    <tr>\n",
       "      <th>1926</th>\n",
       "      <td>0</td>\n",
       "      <td>0</td>\n",
       "      <td>0</td>\n",
       "      <td>0</td>\n",
       "      <td>0</td>\n",
       "      <td>0</td>\n",
       "      <td>0</td>\n",
       "      <td>1</td>\n",
       "      <td>0</td>\n",
       "      <td>0</td>\n",
       "      <td>...</td>\n",
       "      <td>0</td>\n",
       "      <td>0</td>\n",
       "      <td>0</td>\n",
       "      <td>0</td>\n",
       "      <td>0</td>\n",
       "      <td>0</td>\n",
       "      <td>0</td>\n",
       "      <td>0</td>\n",
       "      <td>0</td>\n",
       "      <td>Class_1</td>\n",
       "    </tr>\n",
       "    <tr>\n",
       "      <th>1927</th>\n",
       "      <td>0</td>\n",
       "      <td>0</td>\n",
       "      <td>0</td>\n",
       "      <td>0</td>\n",
       "      <td>0</td>\n",
       "      <td>0</td>\n",
       "      <td>0</td>\n",
       "      <td>0</td>\n",
       "      <td>0</td>\n",
       "      <td>0</td>\n",
       "      <td>...</td>\n",
       "      <td>0</td>\n",
       "      <td>2</td>\n",
       "      <td>0</td>\n",
       "      <td>0</td>\n",
       "      <td>2</td>\n",
       "      <td>0</td>\n",
       "      <td>0</td>\n",
       "      <td>0</td>\n",
       "      <td>0</td>\n",
       "      <td>Class_1</td>\n",
       "    </tr>\n",
       "    <tr>\n",
       "      <th>1928</th>\n",
       "      <td>0</td>\n",
       "      <td>0</td>\n",
       "      <td>0</td>\n",
       "      <td>0</td>\n",
       "      <td>0</td>\n",
       "      <td>0</td>\n",
       "      <td>0</td>\n",
       "      <td>0</td>\n",
       "      <td>0</td>\n",
       "      <td>0</td>\n",
       "      <td>...</td>\n",
       "      <td>0</td>\n",
       "      <td>2</td>\n",
       "      <td>2</td>\n",
       "      <td>0</td>\n",
       "      <td>0</td>\n",
       "      <td>0</td>\n",
       "      <td>0</td>\n",
       "      <td>0</td>\n",
       "      <td>0</td>\n",
       "      <td>Class_1</td>\n",
       "    </tr>\n",
       "  </tbody>\n",
       "</table>\n",
       "<p>1929 rows × 94 columns</p>\n",
       "</div>"
      ],
      "text/plain": [
       "      feat_1  feat_2  feat_3  feat_4  feat_5  feat_6  feat_7  feat_8  feat_9  \\\n",
       "0          1       0       0       0       0       0       0       0       0   \n",
       "1          0       0       0       0       0       0       0       1       0   \n",
       "2          0       0       0       0       0       0       0       1       0   \n",
       "3          1       0       0       1       6       1       5       0       0   \n",
       "4          0       0       0       0       0       0       0       0       0   \n",
       "...      ...     ...     ...     ...     ...     ...     ...     ...     ...   \n",
       "1924       0       1       0       1       0       0       1       2       0   \n",
       "1925       1       0       0       0       0       0       0       5       0   \n",
       "1926       0       0       0       0       0       0       0       1       0   \n",
       "1927       0       0       0       0       0       0       0       0       0   \n",
       "1928       0       0       0       0       0       0       0       0       0   \n",
       "\n",
       "      feat_10  ...  feat_85  feat_86  feat_87  feat_88  feat_89  feat_90  \\\n",
       "0           0  ...        1        0        0        0        0        0   \n",
       "1           0  ...        0        0        0        0        0        0   \n",
       "2           0  ...        0        0        0        0        0        0   \n",
       "3           1  ...        0        1        2        0        0        0   \n",
       "4           0  ...        1        0        0        0        0        1   \n",
       "...       ...  ...      ...      ...      ...      ...      ...      ...   \n",
       "1924        2  ...        0        0        0        0        0        0   \n",
       "1925        0  ...        0        3        0        0        0        0   \n",
       "1926        0  ...        0        0        0        0        0        0   \n",
       "1927        0  ...        0        2        0        0        2        0   \n",
       "1928        0  ...        0        2        2        0        0        0   \n",
       "\n",
       "      feat_91  feat_92  feat_93   target  \n",
       "0           0        0        0  Class_1  \n",
       "1           0        0        0  Class_1  \n",
       "2           0        0        0  Class_1  \n",
       "3           0        0        0  Class_1  \n",
       "4           0        0        0  Class_1  \n",
       "...       ...      ...      ...      ...  \n",
       "1924        0        1        0  Class_1  \n",
       "1925        1        0        0  Class_1  \n",
       "1926        0        0        0  Class_1  \n",
       "1927        0        0        0  Class_1  \n",
       "1928        0        0        0  Class_1  \n",
       "\n",
       "[1929 rows x 94 columns]"
      ]
     },
     "execution_count": 6,
     "metadata": {},
     "output_type": "execute_result"
    }
   ],
   "source": [
    "train_1"
   ]
  },
  {
   "cell_type": "code",
   "execution_count": 7,
   "metadata": {},
   "outputs": [],
   "source": [
    "train_1=train_1.corr()"
   ]
  },
  {
   "cell_type": "code",
   "execution_count": 8,
   "metadata": {},
   "outputs": [
    {
     "data": {
      "text/html": [
       "<div>\n",
       "<style scoped>\n",
       "    .dataframe tbody tr th:only-of-type {\n",
       "        vertical-align: middle;\n",
       "    }\n",
       "\n",
       "    .dataframe tbody tr th {\n",
       "        vertical-align: top;\n",
       "    }\n",
       "\n",
       "    .dataframe thead th {\n",
       "        text-align: right;\n",
       "    }\n",
       "</style>\n",
       "<table border=\"1\" class=\"dataframe\">\n",
       "  <thead>\n",
       "    <tr style=\"text-align: right;\">\n",
       "      <th></th>\n",
       "      <th>feat_1</th>\n",
       "      <th>feat_2</th>\n",
       "      <th>feat_3</th>\n",
       "      <th>feat_4</th>\n",
       "      <th>feat_5</th>\n",
       "      <th>feat_6</th>\n",
       "      <th>feat_7</th>\n",
       "      <th>feat_8</th>\n",
       "      <th>feat_9</th>\n",
       "      <th>feat_10</th>\n",
       "      <th>...</th>\n",
       "      <th>feat_84</th>\n",
       "      <th>feat_85</th>\n",
       "      <th>feat_86</th>\n",
       "      <th>feat_87</th>\n",
       "      <th>feat_88</th>\n",
       "      <th>feat_89</th>\n",
       "      <th>feat_90</th>\n",
       "      <th>feat_91</th>\n",
       "      <th>feat_92</th>\n",
       "      <th>feat_93</th>\n",
       "    </tr>\n",
       "  </thead>\n",
       "  <tbody>\n",
       "    <tr>\n",
       "      <th>feat_1</th>\n",
       "      <td>1.000000</td>\n",
       "      <td>0.130494</td>\n",
       "      <td>0.025945</td>\n",
       "      <td>0.080868</td>\n",
       "      <td>0.171014</td>\n",
       "      <td>0.107925</td>\n",
       "      <td>0.298837</td>\n",
       "      <td>0.173389</td>\n",
       "      <td>0.004448</td>\n",
       "      <td>0.166190</td>\n",
       "      <td>...</td>\n",
       "      <td>0.126049</td>\n",
       "      <td>0.074096</td>\n",
       "      <td>0.178561</td>\n",
       "      <td>0.064137</td>\n",
       "      <td>0.008319</td>\n",
       "      <td>0.053870</td>\n",
       "      <td>0.019353</td>\n",
       "      <td>0.055631</td>\n",
       "      <td>-0.027495</td>\n",
       "      <td>0.082144</td>\n",
       "    </tr>\n",
       "    <tr>\n",
       "      <th>feat_2</th>\n",
       "      <td>0.130494</td>\n",
       "      <td>1.000000</td>\n",
       "      <td>0.094711</td>\n",
       "      <td>0.168174</td>\n",
       "      <td>0.142928</td>\n",
       "      <td>0.186140</td>\n",
       "      <td>0.280607</td>\n",
       "      <td>0.052093</td>\n",
       "      <td>0.020571</td>\n",
       "      <td>0.027429</td>\n",
       "      <td>...</td>\n",
       "      <td>0.164437</td>\n",
       "      <td>0.014937</td>\n",
       "      <td>0.060289</td>\n",
       "      <td>0.050992</td>\n",
       "      <td>0.022713</td>\n",
       "      <td>0.195238</td>\n",
       "      <td>0.446314</td>\n",
       "      <td>0.015680</td>\n",
       "      <td>-0.053383</td>\n",
       "      <td>0.065479</td>\n",
       "    </tr>\n",
       "    <tr>\n",
       "      <th>feat_3</th>\n",
       "      <td>0.025945</td>\n",
       "      <td>0.094711</td>\n",
       "      <td>1.000000</td>\n",
       "      <td>0.195964</td>\n",
       "      <td>0.070028</td>\n",
       "      <td>0.022848</td>\n",
       "      <td>0.105572</td>\n",
       "      <td>-0.023030</td>\n",
       "      <td>0.041062</td>\n",
       "      <td>0.090084</td>\n",
       "      <td>...</td>\n",
       "      <td>0.078133</td>\n",
       "      <td>0.115713</td>\n",
       "      <td>0.050562</td>\n",
       "      <td>0.083438</td>\n",
       "      <td>-0.003710</td>\n",
       "      <td>0.201995</td>\n",
       "      <td>0.164724</td>\n",
       "      <td>0.005181</td>\n",
       "      <td>0.057690</td>\n",
       "      <td>0.125773</td>\n",
       "    </tr>\n",
       "    <tr>\n",
       "      <th>feat_4</th>\n",
       "      <td>0.080868</td>\n",
       "      <td>0.168174</td>\n",
       "      <td>0.195964</td>\n",
       "      <td>1.000000</td>\n",
       "      <td>0.137168</td>\n",
       "      <td>0.120534</td>\n",
       "      <td>0.158365</td>\n",
       "      <td>-0.009780</td>\n",
       "      <td>0.040137</td>\n",
       "      <td>0.174975</td>\n",
       "      <td>...</td>\n",
       "      <td>0.140800</td>\n",
       "      <td>0.040041</td>\n",
       "      <td>0.063098</td>\n",
       "      <td>0.069903</td>\n",
       "      <td>0.033788</td>\n",
       "      <td>0.277023</td>\n",
       "      <td>0.103766</td>\n",
       "      <td>-0.007200</td>\n",
       "      <td>0.032593</td>\n",
       "      <td>0.047108</td>\n",
       "    </tr>\n",
       "    <tr>\n",
       "      <th>feat_5</th>\n",
       "      <td>0.171014</td>\n",
       "      <td>0.142928</td>\n",
       "      <td>0.070028</td>\n",
       "      <td>0.137168</td>\n",
       "      <td>1.000000</td>\n",
       "      <td>0.364569</td>\n",
       "      <td>0.083550</td>\n",
       "      <td>0.004060</td>\n",
       "      <td>0.032628</td>\n",
       "      <td>0.123682</td>\n",
       "      <td>...</td>\n",
       "      <td>0.612673</td>\n",
       "      <td>-0.032154</td>\n",
       "      <td>0.214104</td>\n",
       "      <td>0.061547</td>\n",
       "      <td>0.013116</td>\n",
       "      <td>0.162078</td>\n",
       "      <td>0.009102</td>\n",
       "      <td>0.006243</td>\n",
       "      <td>0.060465</td>\n",
       "      <td>0.054507</td>\n",
       "    </tr>\n",
       "    <tr>\n",
       "      <th>...</th>\n",
       "      <td>...</td>\n",
       "      <td>...</td>\n",
       "      <td>...</td>\n",
       "      <td>...</td>\n",
       "      <td>...</td>\n",
       "      <td>...</td>\n",
       "      <td>...</td>\n",
       "      <td>...</td>\n",
       "      <td>...</td>\n",
       "      <td>...</td>\n",
       "      <td>...</td>\n",
       "      <td>...</td>\n",
       "      <td>...</td>\n",
       "      <td>...</td>\n",
       "      <td>...</td>\n",
       "      <td>...</td>\n",
       "      <td>...</td>\n",
       "      <td>...</td>\n",
       "      <td>...</td>\n",
       "      <td>...</td>\n",
       "      <td>...</td>\n",
       "    </tr>\n",
       "    <tr>\n",
       "      <th>feat_89</th>\n",
       "      <td>0.053870</td>\n",
       "      <td>0.195238</td>\n",
       "      <td>0.201995</td>\n",
       "      <td>0.277023</td>\n",
       "      <td>0.162078</td>\n",
       "      <td>0.107059</td>\n",
       "      <td>0.145340</td>\n",
       "      <td>-0.011600</td>\n",
       "      <td>0.036783</td>\n",
       "      <td>0.100174</td>\n",
       "      <td>...</td>\n",
       "      <td>0.165224</td>\n",
       "      <td>0.228674</td>\n",
       "      <td>0.069886</td>\n",
       "      <td>0.095352</td>\n",
       "      <td>0.024710</td>\n",
       "      <td>1.000000</td>\n",
       "      <td>0.025691</td>\n",
       "      <td>-0.006928</td>\n",
       "      <td>0.047027</td>\n",
       "      <td>0.063309</td>\n",
       "    </tr>\n",
       "    <tr>\n",
       "      <th>feat_90</th>\n",
       "      <td>0.019353</td>\n",
       "      <td>0.446314</td>\n",
       "      <td>0.164724</td>\n",
       "      <td>0.103766</td>\n",
       "      <td>0.009102</td>\n",
       "      <td>0.011557</td>\n",
       "      <td>0.153200</td>\n",
       "      <td>-0.018735</td>\n",
       "      <td>0.029130</td>\n",
       "      <td>0.020329</td>\n",
       "      <td>...</td>\n",
       "      <td>0.023598</td>\n",
       "      <td>0.008569</td>\n",
       "      <td>0.017188</td>\n",
       "      <td>0.025218</td>\n",
       "      <td>0.016108</td>\n",
       "      <td>0.025691</td>\n",
       "      <td>1.000000</td>\n",
       "      <td>0.011162</td>\n",
       "      <td>-0.021626</td>\n",
       "      <td>0.004740</td>\n",
       "    </tr>\n",
       "    <tr>\n",
       "      <th>feat_91</th>\n",
       "      <td>0.055631</td>\n",
       "      <td>0.015680</td>\n",
       "      <td>0.005181</td>\n",
       "      <td>-0.007200</td>\n",
       "      <td>0.006243</td>\n",
       "      <td>-0.018352</td>\n",
       "      <td>0.024362</td>\n",
       "      <td>0.075054</td>\n",
       "      <td>0.067371</td>\n",
       "      <td>-0.000407</td>\n",
       "      <td>...</td>\n",
       "      <td>-0.023516</td>\n",
       "      <td>-0.026969</td>\n",
       "      <td>-0.027760</td>\n",
       "      <td>-0.009865</td>\n",
       "      <td>-0.011736</td>\n",
       "      <td>-0.006928</td>\n",
       "      <td>0.011162</td>\n",
       "      <td>1.000000</td>\n",
       "      <td>0.000786</td>\n",
       "      <td>-0.011997</td>\n",
       "    </tr>\n",
       "    <tr>\n",
       "      <th>feat_92</th>\n",
       "      <td>-0.027495</td>\n",
       "      <td>-0.053383</td>\n",
       "      <td>0.057690</td>\n",
       "      <td>0.032593</td>\n",
       "      <td>0.060465</td>\n",
       "      <td>0.043307</td>\n",
       "      <td>-0.046425</td>\n",
       "      <td>-0.042889</td>\n",
       "      <td>-0.009771</td>\n",
       "      <td>0.005502</td>\n",
       "      <td>...</td>\n",
       "      <td>0.010591</td>\n",
       "      <td>-0.041008</td>\n",
       "      <td>-0.020183</td>\n",
       "      <td>-0.067163</td>\n",
       "      <td>-0.066661</td>\n",
       "      <td>0.047027</td>\n",
       "      <td>-0.021626</td>\n",
       "      <td>0.000786</td>\n",
       "      <td>1.000000</td>\n",
       "      <td>-0.046859</td>\n",
       "    </tr>\n",
       "    <tr>\n",
       "      <th>feat_93</th>\n",
       "      <td>0.082144</td>\n",
       "      <td>0.065479</td>\n",
       "      <td>0.125773</td>\n",
       "      <td>0.047108</td>\n",
       "      <td>0.054507</td>\n",
       "      <td>0.065356</td>\n",
       "      <td>0.083124</td>\n",
       "      <td>-0.001442</td>\n",
       "      <td>0.023914</td>\n",
       "      <td>0.064505</td>\n",
       "      <td>...</td>\n",
       "      <td>0.090605</td>\n",
       "      <td>0.134764</td>\n",
       "      <td>0.100661</td>\n",
       "      <td>0.284600</td>\n",
       "      <td>0.022458</td>\n",
       "      <td>0.063309</td>\n",
       "      <td>0.004740</td>\n",
       "      <td>-0.011997</td>\n",
       "      <td>-0.046859</td>\n",
       "      <td>1.000000</td>\n",
       "    </tr>\n",
       "  </tbody>\n",
       "</table>\n",
       "<p>93 rows × 93 columns</p>\n",
       "</div>"
      ],
      "text/plain": [
       "           feat_1    feat_2    feat_3    feat_4    feat_5    feat_6    feat_7  \\\n",
       "feat_1   1.000000  0.130494  0.025945  0.080868  0.171014  0.107925  0.298837   \n",
       "feat_2   0.130494  1.000000  0.094711  0.168174  0.142928  0.186140  0.280607   \n",
       "feat_3   0.025945  0.094711  1.000000  0.195964  0.070028  0.022848  0.105572   \n",
       "feat_4   0.080868  0.168174  0.195964  1.000000  0.137168  0.120534  0.158365   \n",
       "feat_5   0.171014  0.142928  0.070028  0.137168  1.000000  0.364569  0.083550   \n",
       "...           ...       ...       ...       ...       ...       ...       ...   \n",
       "feat_89  0.053870  0.195238  0.201995  0.277023  0.162078  0.107059  0.145340   \n",
       "feat_90  0.019353  0.446314  0.164724  0.103766  0.009102  0.011557  0.153200   \n",
       "feat_91  0.055631  0.015680  0.005181 -0.007200  0.006243 -0.018352  0.024362   \n",
       "feat_92 -0.027495 -0.053383  0.057690  0.032593  0.060465  0.043307 -0.046425   \n",
       "feat_93  0.082144  0.065479  0.125773  0.047108  0.054507  0.065356  0.083124   \n",
       "\n",
       "           feat_8    feat_9   feat_10  ...   feat_84   feat_85   feat_86  \\\n",
       "feat_1   0.173389  0.004448  0.166190  ...  0.126049  0.074096  0.178561   \n",
       "feat_2   0.052093  0.020571  0.027429  ...  0.164437  0.014937  0.060289   \n",
       "feat_3  -0.023030  0.041062  0.090084  ...  0.078133  0.115713  0.050562   \n",
       "feat_4  -0.009780  0.040137  0.174975  ...  0.140800  0.040041  0.063098   \n",
       "feat_5   0.004060  0.032628  0.123682  ...  0.612673 -0.032154  0.214104   \n",
       "...           ...       ...       ...  ...       ...       ...       ...   \n",
       "feat_89 -0.011600  0.036783  0.100174  ...  0.165224  0.228674  0.069886   \n",
       "feat_90 -0.018735  0.029130  0.020329  ...  0.023598  0.008569  0.017188   \n",
       "feat_91  0.075054  0.067371 -0.000407  ... -0.023516 -0.026969 -0.027760   \n",
       "feat_92 -0.042889 -0.009771  0.005502  ...  0.010591 -0.041008 -0.020183   \n",
       "feat_93 -0.001442  0.023914  0.064505  ...  0.090605  0.134764  0.100661   \n",
       "\n",
       "          feat_87   feat_88   feat_89   feat_90   feat_91   feat_92   feat_93  \n",
       "feat_1   0.064137  0.008319  0.053870  0.019353  0.055631 -0.027495  0.082144  \n",
       "feat_2   0.050992  0.022713  0.195238  0.446314  0.015680 -0.053383  0.065479  \n",
       "feat_3   0.083438 -0.003710  0.201995  0.164724  0.005181  0.057690  0.125773  \n",
       "feat_4   0.069903  0.033788  0.277023  0.103766 -0.007200  0.032593  0.047108  \n",
       "feat_5   0.061547  0.013116  0.162078  0.009102  0.006243  0.060465  0.054507  \n",
       "...           ...       ...       ...       ...       ...       ...       ...  \n",
       "feat_89  0.095352  0.024710  1.000000  0.025691 -0.006928  0.047027  0.063309  \n",
       "feat_90  0.025218  0.016108  0.025691  1.000000  0.011162 -0.021626  0.004740  \n",
       "feat_91 -0.009865 -0.011736 -0.006928  0.011162  1.000000  0.000786 -0.011997  \n",
       "feat_92 -0.067163 -0.066661  0.047027 -0.021626  0.000786  1.000000 -0.046859  \n",
       "feat_93  0.284600  0.022458  0.063309  0.004740 -0.011997 -0.046859  1.000000  \n",
       "\n",
       "[93 rows x 93 columns]"
      ]
     },
     "execution_count": 8,
     "metadata": {},
     "output_type": "execute_result"
    }
   ],
   "source": [
    "train_1"
   ]
  },
  {
   "cell_type": "code",
   "execution_count": 9,
   "metadata": {},
   "outputs": [
    {
     "name": "stdout",
     "output_type": "stream",
     "text": [
      "columns : feat_30 and index feat_32 0.7447873682103698\n",
      "columns : feat_30 and index feat_84 0.9138054403795411\n",
      "columns : feat_32 and index feat_30 0.7447873682103698\n",
      "columns : feat_32 and index feat_84 0.7087354168859821\n",
      "columns : feat_84 and index feat_30 0.9138054403795411\n",
      "columns : feat_84 and index feat_32 0.7087354168859821\n"
     ]
    }
   ],
   "source": [
    "a = []\n",
    "for i in train_1.columns:\n",
    "    for j in train_1.index:\n",
    "        if train_1.loc[j,i] > 0.7 and train_1.loc[j,i] != 1:\n",
    "            print(f'columns : {i} and index {j}', train_1.loc[j,i])\n",
    "            a.append(i)"
   ]
  },
  {
   "cell_type": "code",
   "execution_count": 10,
   "metadata": {},
   "outputs": [
    {
     "name": "stdout",
     "output_type": "stream",
     "text": [
      "{'feat_32', 'feat_84', 'feat_30'}\n"
     ]
    }
   ],
   "source": [
    "a=set(a)\n",
    "print(a)"
   ]
  },
  {
   "cell_type": "code",
   "execution_count": 11,
   "metadata": {},
   "outputs": [
    {
     "data": {
      "text/plain": [
       "RangeIndex(start=0, stop=61878, step=1)"
      ]
     },
     "execution_count": 11,
     "metadata": {},
     "output_type": "execute_result"
    }
   ],
   "source": [
    "train[a].index"
   ]
  },
  {
   "cell_type": "code",
   "execution_count": 12,
   "metadata": {},
   "outputs": [
    {
     "data": {
      "text/plain": [
       "{'feat_30', 'feat_32', 'feat_84'}"
      ]
     },
     "execution_count": 12,
     "metadata": {},
     "output_type": "execute_result"
    }
   ],
   "source": [
    "a"
   ]
  },
  {
   "cell_type": "code",
   "execution_count": 13,
   "metadata": {},
   "outputs": [
    {
     "data": {
      "text/plain": [
       "(61878, 3)"
      ]
     },
     "execution_count": 13,
     "metadata": {},
     "output_type": "execute_result"
    }
   ],
   "source": [
    "train_a=train[a]\n",
    "train_a.shape"
   ]
  },
  {
   "cell_type": "code",
   "execution_count": 14,
   "metadata": {},
   "outputs": [
    {
     "name": "stdout",
     "output_type": "stream",
     "text": [
      "       feat_32  feat_84  feat_30  1_total\n",
      "0            0        0        0        0\n",
      "1            0        0        0        0\n",
      "2            0        0        0        0\n",
      "3           10       22       58      180\n",
      "4            0        0        0        0\n",
      "...        ...      ...      ...      ...\n",
      "61873        4        0        1       10\n",
      "61874        0        0        0        0\n",
      "61875        0        0        0        0\n",
      "61876        2        0        0        4\n",
      "61877        0        0        0        0\n",
      "\n",
      "[61878 rows x 4 columns]\n"
     ]
    }
   ],
   "source": [
    "train_a['1_total'] = 0\n",
    "for i in range(len(train_a.columns)):\n",
    "    for j in range(len(train_a.index)):\n",
    "        train_a['1_total'][j] += train_a.iloc[j,i]\n",
    "print(train_a)"
   ]
  },
  {
   "cell_type": "code",
   "execution_count": 15,
   "metadata": {},
   "outputs": [],
   "source": [
    "train=pd.concat([train,train_a['1_total']],axis = 1)"
   ]
  },
  {
   "cell_type": "code",
   "execution_count": 16,
   "metadata": {},
   "outputs": [],
   "source": [
    "target = train.target\n",
    "train.drop('target', axis = 1, inplace=True)"
   ]
  },
  {
   "cell_type": "code",
   "execution_count": 17,
   "metadata": {},
   "outputs": [
    {
     "data": {
      "text/plain": [
       "array([0, 0, 0, ..., 8, 8, 8])"
      ]
     },
     "execution_count": 17,
     "metadata": {},
     "output_type": "execute_result"
    }
   ],
   "source": [
    "le = LabelEncoder()\n",
    "le.fit_transform(target)"
   ]
  },
  {
   "cell_type": "code",
   "execution_count": 18,
   "metadata": {},
   "outputs": [],
   "source": [
    "X_train, X_test, y_train, y_test = train_test_split(train, target, test_size = 0.2, random_state = 42)"
   ]
  },
  {
   "cell_type": "code",
   "execution_count": 19,
   "metadata": {},
   "outputs": [
    {
     "name": "stdout",
     "output_type": "stream",
     "text": [
      "0.811732385261797\n"
     ]
    }
   ],
   "source": [
    "model = RandomForestClassifier(n_estimators = 300, criterion = 'gini', max_depth=100, random_state = 10)\n",
    "model.fit(X_train, y_train)\n",
    "y_pred=model.predict(X_test)\n",
    "print(np.mean(y_pred == y_test))"
   ]
  },
  {
   "cell_type": "code",
   "execution_count": 20,
   "metadata": {},
   "outputs": [
    {
     "data": {
      "text/plain": [
       "array([[ 170,    1,    0,    0,    0,    6,    0,    7,    9],\n",
       "       [  13, 2806,  752,  215,    9,   27,   69,   20,   19],\n",
       "       [   0,  333,  768,   74,    0,    0,   42,    6,    0],\n",
       "       [   0,   16,   14,  224,    0,    1,    7,    0,    0],\n",
       "       [   1,    3,    0,    4,  553,    0,    5,    0,    2],\n",
       "       [  32,    1,    4,   14,    0, 2742,   45,   44,   47],\n",
       "       [  14,   11,   16,    6,    2,   29,  316,    8,    6],\n",
       "       [  87,    5,    5,    0,    0,   50,   63, 1569,   44],\n",
       "       [  82,    2,    2,    1,    1,   29,    5,   20,  898]],\n",
       "      dtype=int64)"
      ]
     },
     "execution_count": 20,
     "metadata": {},
     "output_type": "execute_result"
    }
   ],
   "source": [
    "confusion_matrix(y_pred,y_test)"
   ]
  },
  {
   "cell_type": "code",
   "execution_count": 21,
   "metadata": {
    "scrolled": true
   },
   "outputs": [
    {
     "name": "stdout",
     "output_type": "stream",
     "text": [
      "[15:16:48] WARNING: C:/Users/Administrator/workspace/xgboost-win64_release_1.3.0/src/learner.cc:1061: Starting in XGBoost 1.3.0, the default evaluation metric used with the objective 'multi:softprob' was changed from 'merror' to 'mlogloss'. Explicitly set eval_metric if you'd like to restore the old behavior.\n",
      "0.8135100193923723\n",
      "[[ 214    3    1    1    0   19   10   20   31]\n",
      " [  10 2701  698  176    6   22   54   15   10]\n",
      " [   1  392  796   71    2    3   32    6    1]\n",
      " [   0   45   27  265    0    4    9    0    0]\n",
      " [   1    5    0    4  552    0    3    2    2]\n",
      " [  31    5    1   11    1 2723   34   41   41]\n",
      " [  17   21   31    9    3   33  363   15    6]\n",
      " [  52    4    5    0    0   43   41 1563   43]\n",
      " [  73    2    2    1    1   37    6   12  891]]\n"
     ]
    }
   ],
   "source": [
    "xgb = XGBClassifier()\n",
    "xgb.fit(X_train, y_train)\n",
    "y_pred = xgb.predict(X_test)\n",
    "print(np.mean(y_pred == y_test))\n",
    "print(confusion_matrix(y_pred,y_test))"
   ]
  },
  {
   "cell_type": "markdown",
   "metadata": {},
   "source": [
    "# train_2"
   ]
  },
  {
   "cell_type": "code",
   "execution_count": 22,
   "metadata": {},
   "outputs": [],
   "source": [
    "train_2=train_2.corr()"
   ]
  },
  {
   "cell_type": "code",
   "execution_count": 23,
   "metadata": {},
   "outputs": [
    {
     "name": "stdout",
     "output_type": "stream",
     "text": [
      "columns : feat_9 and index feat_32 0.8639927632044063\n",
      "columns : feat_9 and index feat_64 0.7341690928173208\n",
      "columns : feat_15 and index feat_72 0.7760220744642844\n",
      "columns : feat_32 and index feat_9 0.8639927632044063\n",
      "columns : feat_64 and index feat_9 0.7341690928173208\n",
      "columns : feat_72 and index feat_15 0.7760220744642844\n"
     ]
    }
   ],
   "source": [
    "b = []\n",
    "for i in train_2.columns:\n",
    "    for j in train_2.index:\n",
    "        if train_2.loc[j,i] > 0.7 and train_2.loc[j,i] != 1:\n",
    "            print(f'columns : {i} and index {j}', train_2.loc[j,i])\n",
    "            b.append(i)"
   ]
  },
  {
   "cell_type": "code",
   "execution_count": 24,
   "metadata": {},
   "outputs": [
    {
     "name": "stdout",
     "output_type": "stream",
     "text": [
      "{'feat_72', 'feat_9', 'feat_64', 'feat_32', 'feat_15'}\n"
     ]
    }
   ],
   "source": [
    "b=set(b)\n",
    "print(b)"
   ]
  },
  {
   "cell_type": "code",
   "execution_count": 25,
   "metadata": {},
   "outputs": [
    {
     "data": {
      "text/plain": [
       "(61878, 5)"
      ]
     },
     "execution_count": 25,
     "metadata": {},
     "output_type": "execute_result"
    }
   ],
   "source": [
    "train_a=train[b]\n",
    "train_a.shape"
   ]
  },
  {
   "cell_type": "code",
   "execution_count": 26,
   "metadata": {},
   "outputs": [
    {
     "name": "stdout",
     "output_type": "stream",
     "text": [
      "       feat_72  feat_9  feat_64  feat_32  feat_15  2_total\n",
      "0            0       0        0        0        0        0\n",
      "1            0       0        1        0        0        2\n",
      "2            0       0        0        0        0        0\n",
      "3            0       0        0       10        0       20\n",
      "4            0       0        0        0        0        0\n",
      "...        ...     ...      ...      ...      ...      ...\n",
      "61873        1       0        1        4        0       12\n",
      "61874        0       0        0        0        0        0\n",
      "61875        2       1        0        0        0        6\n",
      "61876        0       0        0        2        0        4\n",
      "61877        0       0        0        0        1        2\n",
      "\n",
      "[61878 rows x 6 columns]\n"
     ]
    }
   ],
   "source": [
    "train_a['2_total'] = 0\n",
    "for i in range(len(train_a.columns)):\n",
    "    for j in range(len(train_a.index)):\n",
    "        train_a['2_total'][j] += train_a.iloc[j,i]\n",
    "print(train_a)"
   ]
  },
  {
   "cell_type": "code",
   "execution_count": 27,
   "metadata": {},
   "outputs": [],
   "source": [
    "train=pd.concat([train,train_a['2_total']], axis = 1)"
   ]
  },
  {
   "cell_type": "code",
   "execution_count": 28,
   "metadata": {},
   "outputs": [],
   "source": [
    "X_train, X_test, y_train, y_test = train_test_split(train, target, test_size = 0.2, random_state = 42)"
   ]
  },
  {
   "cell_type": "code",
   "execution_count": 29,
   "metadata": {},
   "outputs": [
    {
     "name": "stdout",
     "output_type": "stream",
     "text": [
      "0.8120555914673562\n"
     ]
    }
   ],
   "source": [
    "model = RandomForestClassifier(n_estimators = 300, criterion = 'gini', max_depth=100, random_state = 10)\n",
    "model.fit(X_train, y_train)\n",
    "y_pred=model.predict(X_test)\n",
    "print(np.mean(y_pred == y_test))"
   ]
  },
  {
   "cell_type": "code",
   "execution_count": 30,
   "metadata": {},
   "outputs": [
    {
     "data": {
      "text/plain": [
       "array([[ 168,    0,    0,    0,    0,    5,    2,    8,   12],\n",
       "       [  10, 2813,  759,  222,    9,   25,   72,   18,   18],\n",
       "       [   1,  323,  764,   64,    0,    2,   39,    5,    0],\n",
       "       [   0,   15,   12,  224,    0,    2,    6,    0,    0],\n",
       "       [   1,    3,    0,    4,  552,    0,    5,    0,    2],\n",
       "       [  31,    2,    2,   16,    0, 2741,   41,   49,   45],\n",
       "       [  15,   13,   15,    8,    2,   29,  318,    6,    5],\n",
       "       [  90,    5,    6,    0,    0,   52,   64, 1569,   42],\n",
       "       [  83,    4,    3,    0,    2,   28,    5,   19,  901]],\n",
       "      dtype=int64)"
      ]
     },
     "execution_count": 30,
     "metadata": {},
     "output_type": "execute_result"
    }
   ],
   "source": [
    "confusion_matrix(y_pred,y_test)"
   ]
  },
  {
   "cell_type": "code",
   "execution_count": 31,
   "metadata": {},
   "outputs": [
    {
     "name": "stdout",
     "output_type": "stream",
     "text": [
      "[15:19:11] WARNING: C:/Users/Administrator/workspace/xgboost-win64_release_1.3.0/src/learner.cc:1061: Starting in XGBoost 1.3.0, the default evaluation metric used with the objective 'multi:softprob' was changed from 'merror' to 'mlogloss'. Explicitly set eval_metric if you'd like to restore the old behavior.\n",
      "0.8161764705882353\n",
      "[[ 217    1    1    1    0   18   11   19   32]\n",
      " [   7 2705  680  170    8   19   51   16   11]\n",
      " [   1  395  819   73    0    5   41    5    1]\n",
      " [   1   42   27  270    0    4    7    0    0]\n",
      " [   1    4    0    4  552    0    3    2    3]\n",
      " [  27    3    1   11    0 2728   33   44   40]\n",
      " [  18   21   25    8    4   31  369   21    6]\n",
      " [  56    5    7    0    0   41   36 1555   46]\n",
      " [  71    2    1    1    1   38    1   12  886]]\n"
     ]
    }
   ],
   "source": [
    "xgb = XGBClassifier()\n",
    "xgb.fit(X_train, y_train)\n",
    "y_pred = xgb.predict(X_test)\n",
    "print(np.mean(y_pred == y_test))\n",
    "print(confusion_matrix(y_pred,y_test))"
   ]
  },
  {
   "cell_type": "markdown",
   "metadata": {},
   "source": [
    "# train_3"
   ]
  },
  {
   "cell_type": "code",
   "execution_count": 32,
   "metadata": {},
   "outputs": [],
   "source": [
    "train_3=train_3.corr()"
   ]
  },
  {
   "cell_type": "code",
   "execution_count": 33,
   "metadata": {},
   "outputs": [
    {
     "name": "stdout",
     "output_type": "stream",
     "text": [
      "columns : feat_9 and index feat_32 0.8627647151962684\n",
      "columns : feat_9 and index feat_64 0.7733191627979079\n",
      "columns : feat_15 and index feat_72 0.748273547118116\n",
      "columns : feat_32 and index feat_9 0.8627647151962684\n",
      "columns : feat_64 and index feat_9 0.7733191627979079\n",
      "columns : feat_72 and index feat_15 0.748273547118116\n"
     ]
    }
   ],
   "source": [
    "c = []\n",
    "for i in train_3.columns:\n",
    "    for j in train_3.index:\n",
    "        if train_3.loc[j,i] > 0.7 and train_3.loc[j,i] != 1:\n",
    "            print(f'columns : {i} and index {j}', train_3.loc[j,i])\n",
    "            c.append(i)"
   ]
  },
  {
   "cell_type": "code",
   "execution_count": 34,
   "metadata": {},
   "outputs": [
    {
     "name": "stdout",
     "output_type": "stream",
     "text": [
      "{'feat_72', 'feat_9', 'feat_64', 'feat_32', 'feat_15'}\n"
     ]
    }
   ],
   "source": [
    "c=set(c)\n",
    "print(c)"
   ]
  },
  {
   "cell_type": "code",
   "execution_count": 35,
   "metadata": {},
   "outputs": [
    {
     "data": {
      "text/plain": [
       "(61878, 5)"
      ]
     },
     "execution_count": 35,
     "metadata": {},
     "output_type": "execute_result"
    }
   ],
   "source": [
    "train_a=train[c]\n",
    "train_a.shape"
   ]
  },
  {
   "cell_type": "code",
   "execution_count": 36,
   "metadata": {},
   "outputs": [
    {
     "name": "stdout",
     "output_type": "stream",
     "text": [
      "       feat_72  feat_9  feat_64  feat_32  feat_15  3_total\n",
      "0            0       0        0        0        0        0\n",
      "1            0       0        1        0        0        2\n",
      "2            0       0        0        0        0        0\n",
      "3            0       0        0       10        0       20\n",
      "4            0       0        0        0        0        0\n",
      "...        ...     ...      ...      ...      ...      ...\n",
      "61873        1       0        1        4        0       12\n",
      "61874        0       0        0        0        0        0\n",
      "61875        2       1        0        0        0        6\n",
      "61876        0       0        0        2        0        4\n",
      "61877        0       0        0        0        1        2\n",
      "\n",
      "[61878 rows x 6 columns]\n"
     ]
    }
   ],
   "source": [
    "train_a['3_total'] = 0\n",
    "for i in range(len(train_a.columns)):\n",
    "    for j in range(len(train_a.index)):\n",
    "        train_a['3_total'][j] += train_a.iloc[j,i]\n",
    "print(train_a)"
   ]
  },
  {
   "cell_type": "code",
   "execution_count": 37,
   "metadata": {},
   "outputs": [],
   "source": [
    "train=pd.concat([train,train_a['3_total']], axis = 1)"
   ]
  },
  {
   "cell_type": "code",
   "execution_count": 38,
   "metadata": {},
   "outputs": [],
   "source": [
    "X_train, X_test, y_train, y_test = train_test_split(train, target, test_size = 0.2, random_state = 42)"
   ]
  },
  {
   "cell_type": "code",
   "execution_count": 39,
   "metadata": {},
   "outputs": [
    {
     "name": "stdout",
     "output_type": "stream",
     "text": [
      "0.8142372333548804\n"
     ]
    }
   ],
   "source": [
    "model = RandomForestClassifier(n_estimators = 300, criterion = 'gini', max_depth=100, random_state = 10)\n",
    "model.fit(X_train, y_train)\n",
    "y_pred=model.predict(X_test)\n",
    "print(np.mean(y_pred == y_test))"
   ]
  },
  {
   "cell_type": "code",
   "execution_count": 40,
   "metadata": {},
   "outputs": [
    {
     "data": {
      "text/plain": [
       "array([[ 172,    1,    0,    0,    1,    6,    1,    6,   11],\n",
       "       [  11, 2821,  746,  226,   10,   30,   68,   17,   15],\n",
       "       [   0,  314,  774,   71,    0,    0,   37,    5,    0],\n",
       "       [   0,   16,   15,  217,    0,    2,    6,    0,    0],\n",
       "       [   1,    4,    0,    4,  551,    0,    6,    0,    2],\n",
       "       [  32,    3,    4,   16,    0, 2744,   44,   47,   43],\n",
       "       [  15,   13,   13,    4,    2,   27,  320,    7,    6],\n",
       "       [  86,    5,    6,    0,    0,   47,   65, 1573,   43],\n",
       "       [  82,    1,    3,    0,    1,   28,    5,   19,  905]],\n",
       "      dtype=int64)"
      ]
     },
     "execution_count": 40,
     "metadata": {},
     "output_type": "execute_result"
    }
   ],
   "source": [
    "confusion_matrix(y_pred,y_test)"
   ]
  },
  {
   "cell_type": "code",
   "execution_count": 41,
   "metadata": {},
   "outputs": [
    {
     "name": "stdout",
     "output_type": "stream",
     "text": [
      "[15:21:28] WARNING: C:/Users/Administrator/workspace/xgboost-win64_release_1.3.0/src/learner.cc:1061: Starting in XGBoost 1.3.0, the default evaluation metric used with the objective 'multi:softprob' was changed from 'merror' to 'mlogloss'. Explicitly set eval_metric if you'd like to restore the old behavior.\n",
      "0.8161764705882353\n",
      "[[ 217    1    1    1    0   18   11   19   32]\n",
      " [   7 2705  680  170    8   19   51   16   11]\n",
      " [   1  395  819   73    0    5   41    5    1]\n",
      " [   1   42   27  270    0    4    7    0    0]\n",
      " [   1    4    0    4  552    0    3    2    3]\n",
      " [  27    3    1   11    0 2728   33   44   40]\n",
      " [  18   21   25    8    4   31  369   21    6]\n",
      " [  56    5    7    0    0   41   36 1555   46]\n",
      " [  71    2    1    1    1   38    1   12  886]]\n"
     ]
    }
   ],
   "source": [
    "xgb = XGBClassifier()\n",
    "xgb.fit(X_train, y_train)\n",
    "y_pred = xgb.predict(X_test)\n",
    "print(np.mean(y_pred == y_test))\n",
    "print(confusion_matrix(y_pred,y_test))"
   ]
  },
  {
   "cell_type": "markdown",
   "metadata": {},
   "source": [
    "# train_4"
   ]
  },
  {
   "cell_type": "code",
   "execution_count": 42,
   "metadata": {},
   "outputs": [],
   "source": [
    "train_4=train_4.corr()"
   ]
  },
  {
   "cell_type": "code",
   "execution_count": 43,
   "metadata": {},
   "outputs": [
    {
     "name": "stdout",
     "output_type": "stream",
     "text": [
      "columns : feat_15 and index feat_72 0.7717574828179719\n",
      "columns : feat_48 and index feat_67 0.7639879661410558\n",
      "columns : feat_67 and index feat_48 0.7639879661410558\n",
      "columns : feat_72 and index feat_15 0.7717574828179719\n"
     ]
    }
   ],
   "source": [
    "d = []\n",
    "for i in train_4.columns:\n",
    "    for j in train_4.index:\n",
    "        if train_4.loc[j,i] > 0.7 and train_4.loc[j,i] != 1:\n",
    "            print(f'columns : {i} and index {j}', train_4.loc[j,i])\n",
    "            d.append(i)"
   ]
  },
  {
   "cell_type": "code",
   "execution_count": 44,
   "metadata": {
    "scrolled": true
   },
   "outputs": [
    {
     "name": "stdout",
     "output_type": "stream",
     "text": [
      "{'feat_15', 'feat_72', 'feat_48', 'feat_67'}\n"
     ]
    }
   ],
   "source": [
    "d=set(d)\n",
    "print(d)"
   ]
  },
  {
   "cell_type": "code",
   "execution_count": 45,
   "metadata": {},
   "outputs": [
    {
     "data": {
      "text/plain": [
       "(61878, 4)"
      ]
     },
     "execution_count": 45,
     "metadata": {},
     "output_type": "execute_result"
    }
   ],
   "source": [
    "train_a=train[d]\n",
    "train_a.shape"
   ]
  },
  {
   "cell_type": "code",
   "execution_count": 46,
   "metadata": {},
   "outputs": [
    {
     "data": {
      "image/png": "[encoded data removed]",
      "text/plain": [
       "<Figure size 432x288 with 1 Axes>"
      ]
     },
     "metadata": {
      "needs_background": "light"
     },
     "output_type": "display_data"
    },
    {
     "data": {
      "image/png": "[encoded data removed]",
      "text/plain": [
       "<Figure size 432x288 with 1 Axes>"
      ]
     },
     "metadata": {
      "needs_background": "light"
     },
     "output_type": "display_data"
    },
    {
     "data": {
      "image/png": "[encoded data removed]",
      "text/plain": [
       "<Figure size 432x288 with 1 Axes>"
      ]
     },
     "metadata": {
      "needs_background": "light"
     },
     "output_type": "display_data"
    },
    {
     "data": {
      "image/png": "[encoded data removed]",
      "text/plain": [
       "<Figure size 432x288 with 1 Axes>"
      ]
     },
     "metadata": {
      "needs_background": "light"
     },
     "output_type": "display_data"
    }
   ],
   "source": [
    "for i in train_a.columns:\n",
    "    sns.scatterplot(data = train, x = target, y  = i)\n",
    "    plt.show()"
   ]
  },
  {
   "cell_type": "code",
   "execution_count": 47,
   "metadata": {},
   "outputs": [
    {
     "name": "stdout",
     "output_type": "stream",
     "text": [
      "       feat_15  feat_72  feat_48  feat_67  4_total\n",
      "0            0        0        2        7       18\n",
      "1            0        0        0        1        2\n",
      "2            0        0        1        6       14\n",
      "3            0        0        1        5       12\n",
      "4            0        0        0        0        0\n",
      "...        ...      ...      ...      ...      ...\n",
      "61873        0        1        8        3       24\n",
      "61874        0        0        0        5       10\n",
      "61875        0        2        3       18       46\n",
      "61876        0        0        1        6       14\n",
      "61877        1        0        1       10       24\n",
      "\n",
      "[61878 rows x 5 columns]\n"
     ]
    }
   ],
   "source": [
    "train_a['4_total'] = 0\n",
    "for i in range(len(train_a.columns)):\n",
    "    for j in range(len(train_a.index)):\n",
    "        train_a['4_total'][j] += train_a.iloc[j,i]\n",
    "print(train_a)"
   ]
  },
  {
   "cell_type": "code",
   "execution_count": 48,
   "metadata": {},
   "outputs": [],
   "source": [
    "train=pd.concat([train,train_a['4_total']], axis = 1)"
   ]
  },
  {
   "cell_type": "code",
   "execution_count": 49,
   "metadata": {},
   "outputs": [],
   "source": [
    "X_train, X_test, y_train, y_test = train_test_split(train, target, test_size = 0.2, random_state = 42)"
   ]
  },
  {
   "cell_type": "code",
   "execution_count": 50,
   "metadata": {
    "scrolled": true
   },
   "outputs": [
    {
     "data": {
      "text/plain": [
       "RandomForestClassifier(max_depth=100, n_estimators=300, random_state=10)"
      ]
     },
     "execution_count": 50,
     "metadata": {},
     "output_type": "execute_result"
    }
   ],
   "source": [
    "model = RandomForestClassifier(n_estimators = 300, criterion = 'gini', max_depth=100, random_state = 10)\n",
    "model.fit(X_train, y_train)"
   ]
  },
  {
   "cell_type": "code",
   "execution_count": 51,
   "metadata": {},
   "outputs": [
    {
     "name": "stdout",
     "output_type": "stream",
     "text": [
      "0.8093891402714932\n"
     ]
    },
    {
     "data": {
      "text/plain": [
       "array([[ 166,    1,    0,    0,    0,    7,    2,   11,    9],\n",
       "       [  11, 2806,  771,  213,    8,   27,   70,   19,   15],\n",
       "       [   0,  331,  749,   76,    0,    0,   41,    6,    0],\n",
       "       [   0,   17,   15,  223,    0,    3,    6,    0,    0],\n",
       "       [   1,    3,    0,    4,  552,    0,    5,    0,    2],\n",
       "       [  28,    2,    3,   15,    0, 2738,   44,   47,   46],\n",
       "       [  18,   12,   15,    6,    4,   29,  319,    8,    6],\n",
       "       [  90,    5,    5,    0,    0,   49,   60, 1563,   46],\n",
       "       [  85,    1,    3,    1,    1,   31,    5,   20,  901]],\n",
       "      dtype=int64)"
      ]
     },
     "execution_count": 51,
     "metadata": {},
     "output_type": "execute_result"
    }
   ],
   "source": [
    "y_pred=model.predict(X_test)\n",
    "print(np.mean(y_pred == y_test))\n",
    "confusion_matrix(y_pred,y_test)"
   ]
  },
  {
   "cell_type": "code",
   "execution_count": 52,
   "metadata": {},
   "outputs": [
    {
     "name": "stdout",
     "output_type": "stream",
     "text": [
      "[15:23:44] WARNING: C:/Users/Administrator/workspace/xgboost-win64_release_1.3.0/src/learner.cc:1061: Starting in XGBoost 1.3.0, the default evaluation metric used with the objective 'multi:softprob' was changed from 'merror' to 'mlogloss'. Explicitly set eval_metric if you'd like to restore the old behavior.\n",
      "0.8122171945701357\n",
      "[[ 212    1    1    1    0   17   15   18   37]\n",
      " [   9 2689  685  172    4   18   53   17   10]\n",
      " [   0  414  813   81    0    4   43    5    1]\n",
      " [   0   38   23  259    0    5    8    1    0]\n",
      " [   2    4    0    4  554    0    3    2    2]\n",
      " [  29    5    0   12    1 2725   34   40   40]\n",
      " [  18   22   30    8    4   35  359   14    6]\n",
      " [  59    4    7    0    1   41   34 1563   51]\n",
      " [  70    1    2    1    1   39    3   14  878]]\n"
     ]
    }
   ],
   "source": [
    "xgb = XGBClassifier()\n",
    "xgb.fit(X_train, y_train)\n",
    "y_pred = xgb.predict(X_test)\n",
    "print(np.mean(y_pred == y_test))\n",
    "print(confusion_matrix(y_pred,y_test))"
   ]
  },
  {
   "cell_type": "markdown",
   "metadata": {},
   "source": [
    "# train_5"
   ]
  },
  {
   "cell_type": "code",
   "execution_count": 53,
   "metadata": {},
   "outputs": [],
   "source": [
    "train_5=train_5.corr()"
   ]
  },
  {
   "cell_type": "code",
   "execution_count": 54,
   "metadata": {},
   "outputs": [
    {
     "name": "stdout",
     "output_type": "stream",
     "text": [
      "columns : feat_2 and index feat_13 0.9391051045609091\n",
      "columns : feat_2 and index feat_90 0.8325798594612309\n",
      "columns : feat_13 and index feat_2 0.9391051045609091\n",
      "columns : feat_13 and index feat_90 0.8645624137194459\n",
      "columns : feat_90 and index feat_2 0.8325798594612309\n",
      "columns : feat_90 and index feat_13 0.8645624137194459\n"
     ]
    }
   ],
   "source": [
    "f = []\n",
    "for i in train_5.columns:\n",
    "    for j in train_5.index:\n",
    "        if train_5.loc[j,i] > 0.7 and train_5.loc[j,i] != 1:\n",
    "            print(f'columns : {i} and index {j}', train_5.loc[j,i])\n",
    "            f.append(i)"
   ]
  },
  {
   "cell_type": "code",
   "execution_count": 55,
   "metadata": {},
   "outputs": [
    {
     "name": "stdout",
     "output_type": "stream",
     "text": [
      "{'feat_13', 'feat_90', 'feat_2'}\n"
     ]
    }
   ],
   "source": [
    "f=set(f)\n",
    "print(f)"
   ]
  },
  {
   "cell_type": "code",
   "execution_count": 56,
   "metadata": {},
   "outputs": [
    {
     "data": {
      "text/plain": [
       "(61878, 3)"
      ]
     },
     "execution_count": 56,
     "metadata": {},
     "output_type": "execute_result"
    }
   ],
   "source": [
    "train_a=train[f]\n",
    "train_a.shape"
   ]
  },
  {
   "cell_type": "code",
   "execution_count": 57,
   "metadata": {},
   "outputs": [
    {
     "name": "stdout",
     "output_type": "stream",
     "text": [
      "       feat_13  feat_90  feat_2  5_total\n",
      "0            0        0       0        0\n",
      "1            0        0       0        0\n",
      "2            0        0       0        0\n",
      "3            1        0       0        2\n",
      "4            0        1       0        2\n",
      "...        ...      ...     ...      ...\n",
      "61873        3        0       0        6\n",
      "61874        4        0       0        8\n",
      "61875        0        0       0        0\n",
      "61876        0        0       0        0\n",
      "61877        3        0       0        6\n",
      "\n",
      "[61878 rows x 4 columns]\n"
     ]
    }
   ],
   "source": [
    "train_a['5_total'] = 0\n",
    "for i in range(len(train_a.columns)):\n",
    "    for j in range(len(train_a.index)):\n",
    "        train_a['5_total'][j] += train_a.iloc[j,i]\n",
    "print(train_a)"
   ]
  },
  {
   "cell_type": "code",
   "execution_count": 58,
   "metadata": {},
   "outputs": [],
   "source": [
    "train=pd.concat([train,train_a['5_total']], axis = 1)"
   ]
  },
  {
   "cell_type": "code",
   "execution_count": 59,
   "metadata": {},
   "outputs": [],
   "source": [
    "X_train, X_test, y_train, y_test = train_test_split(train, target, test_size = 0.2, random_state = 42)"
   ]
  },
  {
   "cell_type": "code",
   "execution_count": 60,
   "metadata": {},
   "outputs": [
    {
     "data": {
      "text/plain": [
       "RandomForestClassifier(max_depth=100, n_estimators=300, random_state=10)"
      ]
     },
     "execution_count": 60,
     "metadata": {},
     "output_type": "execute_result"
    }
   ],
   "source": [
    "model = RandomForestClassifier(n_estimators = 300, criterion = 'gini', max_depth=100, random_state = 10)\n",
    "model.fit(X_train, y_train)"
   ]
  },
  {
   "cell_type": "code",
   "execution_count": 61,
   "metadata": {},
   "outputs": [
    {
     "name": "stdout",
     "output_type": "stream",
     "text": [
      "0.8118131868131868\n"
     ]
    },
    {
     "data": {
      "text/plain": [
       "array([[ 174,    1,    0,    0,    0,    6,    1,    8,   10],\n",
       "       [  10, 2808,  762,  210,    7,   29,   66,   14,   16],\n",
       "       [   1,  326,  756,   76,    0,    1,   40,    7,    0],\n",
       "       [   0,   16,   17,  226,    0,    2,    7,    0,    0],\n",
       "       [   1,    5,    0,    4,  555,    0,    6,    0,    2],\n",
       "       [  32,    3,    4,   17,    0, 2736,   43,   41,   47],\n",
       "       [  16,   11,   12,    5,    2,   29,  316,    8,    7],\n",
       "       [  81,    6,    7,    0,    0,   50,   67, 1577,   44],\n",
       "       [  84,    2,    3,    0,    1,   31,    6,   19,  899]],\n",
       "      dtype=int64)"
      ]
     },
     "execution_count": 61,
     "metadata": {},
     "output_type": "execute_result"
    }
   ],
   "source": [
    "y_pred=model.predict(X_test)\n",
    "print(np.mean(y_pred == y_test))\n",
    "confusion_matrix(y_pred,y_test)"
   ]
  },
  {
   "cell_type": "code",
   "execution_count": 62,
   "metadata": {},
   "outputs": [
    {
     "name": "stdout",
     "output_type": "stream",
     "text": [
      "[15:25:49] WARNING: C:/Users/Administrator/workspace/xgboost-win64_release_1.3.0/src/learner.cc:1061: Starting in XGBoost 1.3.0, the default evaluation metric used with the objective 'multi:softprob' was changed from 'merror' to 'mlogloss'. Explicitly set eval_metric if you'd like to restore the old behavior.\n",
      "0.8152876535229476\n",
      "[[ 215    0    0    1    0   15   12   22   32]\n",
      " [   8 2693  679  169    5   19   48   17   11]\n",
      " [   0  412  820   81    0    3   36    5    0]\n",
      " [   0   35   21  260    0    3    8    0    0]\n",
      " [   1    6    0    4  553    0    3    2    2]\n",
      " [  29    6    1   12    0 2726   32   41   38]\n",
      " [  22   18   31   10    5   32  373   14    5]\n",
      " [  54    5    6    0    1   47   39 1560   47]\n",
      " [  70    3    3    1    1   39    1   13  890]]\n"
     ]
    }
   ],
   "source": [
    "xgb = XGBClassifier()\n",
    "xgb.fit(X_train, y_train)\n",
    "y_pred = xgb.predict(X_test)\n",
    "print(np.mean(y_pred == y_test))\n",
    "print(confusion_matrix(y_pred,y_test))"
   ]
  },
  {
   "cell_type": "markdown",
   "metadata": {},
   "source": [
    "# test_6"
   ]
  },
  {
   "cell_type": "code",
   "execution_count": 63,
   "metadata": {},
   "outputs": [],
   "source": [
    "train_6=train_6.corr()"
   ]
  },
  {
   "cell_type": "code",
   "execution_count": 64,
   "metadata": {},
   "outputs": [
    {
     "name": "stdout",
     "output_type": "stream",
     "text": [
      "columns : feat_3 and index feat_46 0.751823444996393\n",
      "columns : feat_39 and index feat_45 0.7937259507821769\n",
      "columns : feat_45 and index feat_39 0.7937259507821769\n",
      "columns : feat_46 and index feat_3 0.751823444996393\n"
     ]
    }
   ],
   "source": [
    "e = []\n",
    "for i in train_6.columns:\n",
    "    for j in train_6.index:\n",
    "        if train_6.loc[j,i] > 0.7 and train_6.loc[j,i] != 1:\n",
    "            print(f'columns : {i} and index {j}', train_6.loc[j,i])\n",
    "            e.append(i)"
   ]
  },
  {
   "cell_type": "code",
   "execution_count": 65,
   "metadata": {},
   "outputs": [
    {
     "name": "stdout",
     "output_type": "stream",
     "text": [
      "{'feat_39', 'feat_46', 'feat_45', 'feat_3'}\n"
     ]
    }
   ],
   "source": [
    "e=set(e)\n",
    "print(e)"
   ]
  },
  {
   "cell_type": "code",
   "execution_count": 66,
   "metadata": {},
   "outputs": [
    {
     "data": {
      "text/plain": [
       "(61878, 4)"
      ]
     },
     "execution_count": 66,
     "metadata": {},
     "output_type": "execute_result"
    }
   ],
   "source": [
    "train_a=train[e]\n",
    "train_a.shape"
   ]
  },
  {
   "cell_type": "code",
   "execution_count": 67,
   "metadata": {},
   "outputs": [
    {
     "name": "stdout",
     "output_type": "stream",
     "text": [
      "       feat_39  feat_46  feat_45  feat_3  6_total\n",
      "0            0        0        0       0        0\n",
      "1            0        0        0       0        0\n",
      "2            0        0        0       0        0\n",
      "3            0        2        0       0        4\n",
      "4            0        0        0       0        0\n",
      "...        ...      ...      ...     ...      ...\n",
      "61873        0        0        0       0        0\n",
      "61874        0        0        0       0        0\n",
      "61875        0        0        0       0        0\n",
      "61876        0        0        0       0        0\n",
      "61877        0        0        0       0        0\n",
      "\n",
      "[61878 rows x 5 columns]\n"
     ]
    }
   ],
   "source": [
    "train_a['6_total'] = 0\n",
    "for i in range(len(train_a.columns)):\n",
    "    for j in range(len(train_a.index)):\n",
    "        train_a['6_total'][j] += train_a.iloc[j,i]\n",
    "print(train_a)"
   ]
  },
  {
   "cell_type": "code",
   "execution_count": 68,
   "metadata": {},
   "outputs": [],
   "source": [
    "train=pd.concat([train,train_a['6_total']], axis = 1)"
   ]
  },
  {
   "cell_type": "code",
   "execution_count": 69,
   "metadata": {},
   "outputs": [],
   "source": [
    "X_train, X_test, y_train, y_test = train_test_split(train, target, test_size = 0.2, random_state = 42)"
   ]
  },
  {
   "cell_type": "code",
   "execution_count": 70,
   "metadata": {},
   "outputs": [
    {
     "data": {
      "text/plain": [
       "RandomForestClassifier(max_depth=100, n_estimators=300, random_state=10)"
      ]
     },
     "execution_count": 70,
     "metadata": {},
     "output_type": "execute_result"
    }
   ],
   "source": [
    "model = RandomForestClassifier(n_estimators = 300, criterion = 'gini', max_depth=100, random_state = 10)\n",
    "model.fit(X_train, y_train)"
   ]
  },
  {
   "cell_type": "code",
   "execution_count": 71,
   "metadata": {},
   "outputs": [
    {
     "name": "stdout",
     "output_type": "stream",
     "text": [
      "0.81060116354234\n"
     ]
    },
    {
     "data": {
      "text/plain": [
       "array([[ 169,    1,    0,    0,    0,    5,    2,   13,   10],\n",
       "       [  12, 2805,  768,  210,    7,   28,   71,   18,   13],\n",
       "       [   1,  332,  751,   75,    0,    3,   38,    4,    1],\n",
       "       [   0,   16,   13,  225,    0,    3,    7,    0,    0],\n",
       "       [   1,    4,    0,    4,  555,    0,    6,    0,    2],\n",
       "       [  29,    2,    4,   18,    0, 2735,   44,   45,   47],\n",
       "       [  17,    8,   15,    6,    2,   28,  316,    7,    4],\n",
       "       [  90,    7,    8,    0,    0,   49,   62, 1569,   41],\n",
       "       [  80,    3,    2,    0,    1,   33,    6,   18,  907]],\n",
       "      dtype=int64)"
      ]
     },
     "execution_count": 71,
     "metadata": {},
     "output_type": "execute_result"
    }
   ],
   "source": [
    "y_pred=model.predict(X_test)\n",
    "print(np.mean(y_pred == y_test))\n",
    "confusion_matrix(y_pred,y_test)"
   ]
  },
  {
   "cell_type": "code",
   "execution_count": 72,
   "metadata": {
    "scrolled": true
   },
   "outputs": [
    {
     "name": "stdout",
     "output_type": "stream",
     "text": [
      "[15:27:59] WARNING: C:/Users/Administrator/workspace/xgboost-win64_release_1.3.0/src/learner.cc:1061: Starting in XGBoost 1.3.0, the default evaluation metric used with the objective 'multi:softprob' was changed from 'merror' to 'mlogloss'. Explicitly set eval_metric if you'd like to restore the old behavior.\n",
      "0.8146412411118293\n",
      "[[ 219    0    1    1    0   16   10   16   29]\n",
      " [   8 2697  684  176    7   18   54   15   13]\n",
      " [   0  400  813   74    0    4   35    6    0]\n",
      " [   0   41   27  261    0    3    9    1    0]\n",
      " [   2    6    0    4  552    0    3    2    3]\n",
      " [  33    3    1   13    1 2726   35   40   40]\n",
      " [  16   18   27    8    3   33  365   17    7]\n",
      " [  52    8    6    0    1   42   38 1565   49]\n",
      " [  69    5    2    1    1   42    3   12  884]]\n"
     ]
    }
   ],
   "source": [
    "xgb = XGBClassifier()\n",
    "xgb.fit(X_train, y_train)\n",
    "y_pred = xgb.predict(X_test)\n",
    "print(np.mean(y_pred == y_test))\n",
    "print(confusion_matrix(y_pred,y_test))"
   ]
  },
  {
   "cell_type": "markdown",
   "metadata": {},
   "source": [
    "# test_7"
   ]
  },
  {
   "cell_type": "code",
   "execution_count": 73,
   "metadata": {},
   "outputs": [
    {
     "name": "stdout",
     "output_type": "stream",
     "text": [
      "columns : feat_2 and index feat_90 0.7260608325003599\n",
      "columns : feat_39 and index feat_45 0.832322199855533\n",
      "columns : feat_45 and index feat_39 0.832322199855533\n",
      "columns : feat_90 and index feat_2 0.7260608325003599\n",
      "{'feat_39', 'feat_90', 'feat_45', 'feat_2'}\n",
      "       feat_39  feat_90  feat_45  feat_2  7_total\n",
      "0            0        0        0       0        0\n",
      "1            0        0        0       0        0\n",
      "2            0        0        0       0        0\n",
      "3            0        0        0       0        0\n",
      "4            0        1        0       0        2\n",
      "...        ...      ...      ...     ...      ...\n",
      "61873        0        0        0       0        0\n",
      "61874        0        0        0       0        0\n",
      "61875        0        0        0       0        0\n",
      "61876        0        0        0       0        0\n",
      "61877        0        0        0       0        0\n",
      "\n",
      "[61878 rows x 5 columns]\n",
      "0.8110859728506787\n"
     ]
    },
    {
     "data": {
      "text/plain": [
       "array([[ 168,    1,    0,    0,    0,    9,    2,    9,    9],\n",
       "       [  12, 2804,  761,  218,    9,   26,   68,   19,   14],\n",
       "       [   0,  327,  757,   68,    0,    3,   41,    5,    0],\n",
       "       [   0,   17,   14,  224,    0,    3,    6,    0,    0],\n",
       "       [   1,    4,    0,    4,  553,    0,    6,    0,    2],\n",
       "       [  30,    2,    2,   15,    0, 2728,   41,   41,   45],\n",
       "       [  16,   12,   14,    8,    2,   29,  322,    7,    5],\n",
       "       [  88,    8,    9,    0,    0,   54,   61, 1577,   45],\n",
       "       [  84,    3,    4,    1,    1,   32,    5,   16,  905]],\n",
       "      dtype=int64)"
      ]
     },
     "execution_count": 73,
     "metadata": {},
     "output_type": "execute_result"
    }
   ],
   "source": [
    "train_7=train_7.corr()\n",
    "g = []\n",
    "for i in train_7.columns:\n",
    "    for j in train_7.index:\n",
    "        if train_7.loc[j,i] > 0.7 and train_7.loc[j,i] != 1:\n",
    "            print(f'columns : {i} and index {j}', train_7.loc[j,i])\n",
    "            g.append(i)\n",
    "\n",
    "            \n",
    "g=set(g)\n",
    "print(g)\n",
    "\n",
    "\n",
    "train_a=train[g]\n",
    "train_a.shape\n",
    "\n",
    "\n",
    "train_a['7_total'] = 0\n",
    "for i in range(len(train_a.columns)):\n",
    "    for j in range(len(train_a.index)):\n",
    "        train_a['7_total'][j] += train_a.iloc[j,i]\n",
    "print(train_a)\n",
    "\n",
    "\n",
    "train=pd.concat([train,train_a['7_total']], axis = 1)\n",
    "\n",
    "X_train, X_test, y_train, y_test = train_test_split(train, target, test_size = 0.2, random_state = 42)\n",
    "model = RandomForestClassifier(n_estimators = 300, criterion = 'gini', max_depth=100, random_state = 10)\n",
    "model.fit(X_train, y_train)\n",
    "y_pred=model.predict(X_test)\n",
    "print(np.mean(y_pred == y_test))\n",
    "confusion_matrix(y_pred,y_test)"
   ]
  },
  {
   "cell_type": "code",
   "execution_count": 74,
   "metadata": {},
   "outputs": [
    {
     "name": "stdout",
     "output_type": "stream",
     "text": [
      "[15:30:17] WARNING: C:/Users/Administrator/workspace/xgboost-win64_release_1.3.0/src/learner.cc:1061: Starting in XGBoost 1.3.0, the default evaluation metric used with the objective 'multi:softprob' was changed from 'merror' to 'mlogloss'. Explicitly set eval_metric if you'd like to restore the old behavior.\n",
      "0.8145604395604396\n",
      "[[ 213    1    1    1    0   17   12   20   35]\n",
      " [   8 2699  683  166    4   18   53   15   12]\n",
      " [   1  402  813   84    1    4   37    6    0]\n",
      " [   0   37   19  262    0    4    5    1    0]\n",
      " [   2    6    0    4  554    0    3    2    3]\n",
      " [  31    4    1   10    0 2721   37   40   39]\n",
      " [  20   21   35   10    4   35  372   14    4]\n",
      " [  54    7    7    0    1   45   32 1564   49]\n",
      " [  70    1    2    1    1   40    1   12  883]]\n"
     ]
    }
   ],
   "source": [
    "xgb = XGBClassifier()\n",
    "xgb.fit(X_train, y_train)\n",
    "y_pred = xgb.predict(X_test)\n",
    "print(np.mean(y_pred == y_test))\n",
    "print(confusion_matrix(y_pred,y_test))"
   ]
  },
  {
   "cell_type": "markdown",
   "metadata": {},
   "source": [
    "# test_8"
   ]
  },
  {
   "cell_type": "code",
   "execution_count": 75,
   "metadata": {},
   "outputs": [
    {
     "name": "stdout",
     "output_type": "stream",
     "text": [
      "columns : feat_3 and index feat_4 0.7340102723442208\n",
      "columns : feat_4 and index feat_3 0.7340102723442208\n",
      "columns : feat_4 and index feat_35 0.7399571617169247\n",
      "columns : feat_35 and index feat_4 0.7399571617169247\n",
      "{'feat_35', 'feat_4', 'feat_3'}\n",
      "       feat_35  feat_4  feat_3  8_total\n",
      "0            1       0       0        2\n",
      "1            0       0       0        0\n",
      "2            0       0       0        0\n",
      "3            0       1       0        2\n",
      "4            0       0       0        0\n",
      "...        ...     ...     ...      ...\n",
      "61873        1       1       0        4\n",
      "61874        0       0       0        0\n",
      "61875        0       0       0        0\n",
      "61876        0       0       0        0\n",
      "61877        0       0       0        0\n",
      "\n",
      "[61878 rows x 4 columns]\n",
      "0.8133484162895928\n"
     ]
    },
    {
     "data": {
      "text/plain": [
       "array([[ 176,    1,    0,    0,    0,    5,    3,   10,   11],\n",
       "       [  11, 2792,  740,  214,    8,   28,   71,   17,   13],\n",
       "       [   0,  339,  778,   70,    0,    2,   36,    6,    1],\n",
       "       [   0,   17,   16,  228,    0,    2,    5,    0,    0],\n",
       "       [   1,    3,    0,    4,  554,    0,    6,    0,    2],\n",
       "       [  34,    4,    2,   16,    0, 2740,   45,   43,   42],\n",
       "       [  14,   11,   13,    6,    2,   26,  319,    7,    6],\n",
       "       [  79,    8,    9,    0,    0,   51,   63, 1574,   45],\n",
       "       [  84,    3,    3,    0,    1,   30,    4,   17,  905]],\n",
       "      dtype=int64)"
      ]
     },
     "execution_count": 75,
     "metadata": {},
     "output_type": "execute_result"
    }
   ],
   "source": [
    "train_8=train_8.corr()\n",
    "h = []\n",
    "for i in train_8.columns:\n",
    "    for j in train_8.index:\n",
    "        if train_8.loc[j,i] > 0.7 and train_8.loc[j,i] != 1:\n",
    "            print(f'columns : {i} and index {j}', train_8.loc[j,i])\n",
    "            h.append(i)\n",
    "\n",
    "            \n",
    "h=set(h)\n",
    "print(h)\n",
    "\n",
    "\n",
    "train_a=train[h]\n",
    "train_a.shape\n",
    "\n",
    "\n",
    "train_a['8_total'] = 0\n",
    "for i in range(len(train_a.columns)):\n",
    "    for j in range(len(train_a.index)):\n",
    "        train_a['8_total'][j] += train_a.iloc[j,i]\n",
    "print(train_a)\n",
    "\n",
    "\n",
    "train=pd.concat([train,train_a['8_total']], axis = 1)\n",
    "\n",
    "X_train, X_test, y_train, y_test = train_test_split(train, target, test_size = 0.2, random_state = 42)\n",
    "model = RandomForestClassifier(n_estimators = 300, criterion = 'gini', max_depth=100, random_state = 10)\n",
    "model.fit(X_train, y_train)\n",
    "y_pred=model.predict(X_test)\n",
    "print(np.mean(y_pred == y_test))\n",
    "confusion_matrix(y_pred,y_test)"
   ]
  },
  {
   "cell_type": "code",
   "execution_count": 76,
   "metadata": {},
   "outputs": [
    {
     "name": "stdout",
     "output_type": "stream",
     "text": [
      "[15:32:26] WARNING: C:/Users/Administrator/workspace/xgboost-win64_release_1.3.0/src/learner.cc:1061: Starting in XGBoost 1.3.0, the default evaluation metric used with the objective 'multi:softprob' was changed from 'merror' to 'mlogloss'. Explicitly set eval_metric if you'd like to restore the old behavior.\n",
      "0.8125404007756949\n",
      "[[ 217    1    1    1    0   17   12   20   36]\n",
      " [   8 2691  700  172    5   20   52   15   11]\n",
      " [   1  412  802   78    0    3   35    9    0]\n",
      " [   0   38   18  261    0    4    6    0    0]\n",
      " [   1    5    0    4  554    0    3    2    4]\n",
      " [  28    5    1   13    0 2717   35   39   44]\n",
      " [  20   18   30    8    4   37  374   14    4]\n",
      " [  55    6    6    0    1   47   34 1561   47]\n",
      " [  69    2    3    1    1   39    1   14  879]]\n"
     ]
    }
   ],
   "source": [
    "xgb = XGBClassifier()\n",
    "xgb.fit(X_train, y_train)\n",
    "y_pred = xgb.predict(X_test)\n",
    "print(np.mean(y_pred == y_test))\n",
    "print(confusion_matrix(y_pred,y_test))"
   ]
  },
  {
   "cell_type": "markdown",
   "metadata": {},
   "source": [
    "# test_9"
   ]
  },
  {
   "cell_type": "code",
   "execution_count": 77,
   "metadata": {},
   "outputs": [
    {
     "name": "stdout",
     "output_type": "stream",
     "text": [
      "columns : feat_29 and index feat_77 0.8348092476420178\n",
      "columns : feat_77 and index feat_29 0.8348092476420178\n",
      "{'feat_77', 'feat_29'}\n",
      "       feat_77  feat_29  9_total\n",
      "0            0        2        4\n",
      "1            0        0        0\n",
      "2            0        0        0\n",
      "3            0        0        0\n",
      "4            0        0        0\n",
      "...        ...      ...      ...\n",
      "61873       29       65      188\n",
      "61874        1        1        4\n",
      "61875        0        0        0\n",
      "61876        0        2        4\n",
      "61877        0        9       18\n",
      "\n",
      "[61878 rows x 3 columns]\n",
      "0.81060116354234\n"
     ]
    },
    {
     "data": {
      "text/plain": [
       "array([[ 167,    1,    0,    0,    0,    5,    3,   10,   12],\n",
       "       [  10, 2796,  751,  213,    9,   29,   73,   19,   15],\n",
       "       [   1,  336,  771,   76,    0,    2,   38,    5,    0],\n",
       "       [   0,   19,   14,  224,    0,    2,    5,    0,    0],\n",
       "       [   1,    4,    0,    4,  553,    0,    6,    0,    2],\n",
       "       [  33,    3,    1,   14,    0, 2731,   42,   42,   49],\n",
       "       [  15,   10,   14,    7,    2,   30,  317,    7,    4],\n",
       "       [  87,    7,    8,    0,    0,   54,   62, 1572,   42],\n",
       "       [  85,    2,    2,    0,    1,   31,    6,   19,  901]],\n",
       "      dtype=int64)"
      ]
     },
     "execution_count": 77,
     "metadata": {},
     "output_type": "execute_result"
    }
   ],
   "source": [
    "train_9=train_9.corr()\n",
    "k = []\n",
    "for i in train_9.columns:\n",
    "    for j in train_9.index:\n",
    "        if train_9.loc[j,i] > 0.7 and train_9.loc[j,i] != 1:\n",
    "            print(f'columns : {i} and index {j}', train_9.loc[j,i])\n",
    "            k.append(i)\n",
    "\n",
    "            \n",
    "k=set(k)\n",
    "print(k)\n",
    "\n",
    "\n",
    "train_a=train[k]\n",
    "train_a.shape\n",
    "\n",
    "\n",
    "train_a['9_total'] = 0\n",
    "for i in range(len(train_a.columns)):\n",
    "    for j in range(len(train_a.index)):\n",
    "        train_a['9_total'][j] += train_a.iloc[j,i]\n",
    "print(train_a)\n",
    "\n",
    "\n",
    "train=pd.concat([train,train_a['9_total']], axis = 1)\n",
    "\n",
    "X_train, X_test, y_train, y_test = train_test_split(train, target, test_size = 0.2, random_state = 42)\n",
    "model = RandomForestClassifier(n_estimators = 300, criterion = 'gini', max_depth=100, random_state = 10)\n",
    "model.fit(X_train, y_train)\n",
    "y_pred=model.predict(X_test)\n",
    "print(np.mean(y_pred == y_test))\n",
    "confusion_matrix(y_pred,y_test)"
   ]
  },
  {
   "cell_type": "code",
   "execution_count": 78,
   "metadata": {},
   "outputs": [
    {
     "name": "stdout",
     "output_type": "stream",
     "text": [
      "[15:34:27] WARNING: C:/Users/Administrator/workspace/xgboost-win64_release_1.3.0/src/learner.cc:1061: Starting in XGBoost 1.3.0, the default evaluation metric used with the objective 'multi:softprob' was changed from 'merror' to 'mlogloss'. Explicitly set eval_metric if you'd like to restore the old behavior.\n",
      "0.8129444085326438\n",
      "[[ 217    1    1    1    0   14   10   21   30]\n",
      " [   8 2701  702  170    5   17   46   12   12]\n",
      " [   1  404  796   79    0    4   41    9    1]\n",
      " [   0   38   23  259    0    4    7    0    0]\n",
      " [   1    5    1    4  554    0    3    2    2]\n",
      " [  30    5    1   13    1 2723   34   40   43]\n",
      " [  20   16   27   11    3   37  366   17    6]\n",
      " [  48    7    6    0    0   42   42 1559   45]\n",
      " [  74    1    4    1    2   43    3   14  886]]\n"
     ]
    }
   ],
   "source": [
    "xgb = XGBClassifier()\n",
    "xgb.fit(X_train, y_train)\n",
    "y_pred = xgb.predict(X_test)\n",
    "print(np.mean(y_pred == y_test))\n",
    "print(confusion_matrix(y_pred,y_test))"
   ]
  },
  {
   "cell_type": "code",
   "execution_count": null,
   "metadata": {},
   "outputs": [],
   "source": []
  }
 ],
 "metadata": {
  "kernelspec": {
   "display_name": "Python 3",
   "language": "python",
   "name": "python3"
  },
  "language_info": {
   "codemirror_mode": {
    "name": "ipython",
    "version": 3
   },
   "file_extension": ".py",
   "mimetype": "text/x-python",
   "name": "python",
   "nbconvert_exporter": "python",
   "pygments_lexer": "ipython3",
   "version": "3.8.5"
  }
 },
 "nbformat": 4,
 "nbformat_minor": 4
}
